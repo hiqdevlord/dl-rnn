{
 "cells": [
  {
   "cell_type": "markdown",
   "metadata": {},
   "source": [
    "# Memorizing elements of a sequence"
   ]
  },
  {
   "cell_type": "markdown",
   "metadata": {},
   "source": [
    "The goal of this task is to memorize some specific elements of a sequence a symbols with variable length. This toy example is useful to test the capacity of RNNs to keep representations in memory over long sequences."
   ]
  },
  {
   "cell_type": "code",
   "execution_count": 1,
   "metadata": {
    "collapsed": true
   },
   "outputs": [],
   "source": [
    "%matplotlib inline\n",
    "%load_ext autoreload\n",
    "%autoreload 2"
   ]
  },
  {
   "cell_type": "markdown",
   "metadata": {},
   "source": [
    "## One-hot encoding for string of symbols"
   ]
  },
  {
   "cell_type": "code",
   "execution_count": 2,
   "metadata": {
    "collapsed": false
   },
   "outputs": [],
   "source": [
    "# %load binary_code.py\n",
    "import numpy as np\n",
    "import matplotlib.pyplot as plt\n",
    "\n",
    "ALPHABET = np.asarray(list(\"abcd\"), dtype=object)\n",
    "\n",
    "\n",
    "def symbols_to_binarray(s, alphabet=ALPHABET, dtype=np.float32):\n",
    "    \"\"\"One-hot encode a sequence of symbols\n",
    "    \n",
    "    This numerical representation of a string of symbols is useful\n",
    "    to feed the data and expected labels to the input and output\n",
    "    layers of recurrent networks.\n",
    "    \"\"\"\n",
    "    alphabet = np.asarray(list(alphabet), dtype=object)\n",
    "    n_samples = len(s)\n",
    "    n_features = len(alphabet)\n",
    "\n",
    "    mapping = dict(zip(alphabet, range(n_features)))\n",
    "    \n",
    "    code = np.zeros((n_samples, n_features), dtype=dtype)\n",
    "    for i, e in enumerate(s):\n",
    "        code[i, mapping[e]] = 1.0\n",
    "    return code\n",
    "\n",
    "\n",
    "def binarray_to_symbols(code, alphabet=ALPHABET):\n",
    "    \"\"\"Convert encoded data by to a string of symbols\"\"\"\n",
    "    n_samples, n_features = code.shape\n",
    "    if n_features != len(alphabet):\n",
    "        raise ValueError(\n",
    "            \"code should have %d columns (instead of %d).\"\n",
    "            % (len(alphabet), n_features)\n",
    "        )\n",
    "\n",
    "    # Make sure that the alphabet is a numpy array of symbols\n",
    "    # to make it possible to leverage numpy fancy indexing\n",
    "    if not isinstance(alphabet, np.ndarray):\n",
    "        alphabet = np.asarray(list(alphabet), dtype='object')\n",
    "\n",
    "    return \"\".join(alphabet[code.argmax(axis=1)])\n",
    "\n",
    "\n",
    "def plot_binary_tape(encoded_sequence, alphabet=ALPHABET):\n",
    "    plt.matshow(encoded_sequence, cmap=plt.cm.gray)\n",
    "    plt.xticks(np.arange(len(alphabet)), alphabet)\n",
    "    \n",
    "\n",
    "def plot_parallel_tapes(input_data, output_data,\n",
    "                        input_symbols, output_symbols):\n",
    "    fig, axes = plt.subplots(nrows=1, ncols=2, figsize=(5, 10))\n",
    "    for ax, data in zip(axes, [input_data, output_data]):\n",
    "        ax.matshow(data, cmap=plt.cm.gray)\n",
    "        ax.set_xticks(np.arange(len(ALPHABET)))\n",
    "        ax.set_xticklabels(ALPHABET, fontsize=18)\n",
    "    fig.tight_layout()\n",
    "    plt.title(\"input: %r, output: %r\" % (input_symbols, output_symbols))"
   ]
  },
  {
   "cell_type": "code",
   "execution_count": 3,
   "metadata": {
    "collapsed": false
   },
   "outputs": [
    {
     "data": {
      "text/plain": [
       "array([[ 1.,  0.,  0.,  0.],\n",
       "       [ 0.,  1.,  0.,  0.],\n",
       "       [ 0.,  0.,  1.,  0.],\n",
       "       [ 0.,  0.,  0.,  1.],\n",
       "       [ 1.,  0.,  0.,  0.],\n",
       "       [ 0.,  0.,  1.,  0.],\n",
       "       [ 0.,  1.,  0.,  0.],\n",
       "       [ 0.,  0.,  0.,  1.]], dtype=float32)"
      ]
     },
     "execution_count": 3,
     "metadata": {},
     "output_type": "execute_result"
    }
   ],
   "source": [
    "symbol_sequence = \"abcdacbd\"\n",
    "encoded_sequence = symbols_to_binarray(symbol_sequence)\n",
    "encoded_sequence"
   ]
  },
  {
   "cell_type": "code",
   "execution_count": 4,
   "metadata": {
    "collapsed": false
   },
   "outputs": [
    {
     "data": {
      "image/png": "[encoded data removed]",
      "text/plain": [
       "<matplotlib.figure.Figure at 0x7fe8841fc410>"
      ]
     },
     "metadata": {},
     "output_type": "display_data"
    }
   ],
   "source": [
    "plot_binary_tape(encoded_sequence)"
   ]
  },
  {
   "cell_type": "code",
   "execution_count": 5,
   "metadata": {
    "collapsed": false
   },
   "outputs": [
    {
     "data": {
      "image/png": "[encoded data removed]",
      "text/plain": [
       "<matplotlib.figure.Figure at 0x7fe856a26950>"
      ]
     },
     "metadata": {},
     "output_type": "display_data"
    }
   ],
   "source": [
    "plot_binary_tape(symbols_to_binarray('dcabd'))"
   ]
  },
  {
   "cell_type": "markdown",
   "metadata": {},
   "source": [
    "## Decoding back to a sequence of symbols"
   ]
  },
  {
   "cell_type": "markdown",
   "metadata": {
    "collapsed": true
   },
   "source": [
    "The `binary_to_symbols` function computes the inverse operation:"
   ]
  },
  {
   "cell_type": "code",
   "execution_count": 6,
   "metadata": {
    "collapsed": false
   },
   "outputs": [
    {
     "data": {
      "text/plain": [
       "'abcdacbd'"
      ]
     },
     "execution_count": 6,
     "metadata": {},
     "output_type": "execute_result"
    }
   ],
   "source": [
    "binarray_to_symbols(encoded_sequence)"
   ]
  },
  {
   "cell_type": "markdown",
   "metadata": {},
   "source": [
    "## Running count of symbols in a sequence\n",
    "\n",
    "Let's generate a dataset where the output tape should display the symbol that was the most frequent in the recent history of the input tape (over a fixed window size):"
   ]
  },
  {
   "cell_type": "code",
   "execution_count": 7,
   "metadata": {
    "collapsed": true
   },
   "outputs": [],
   "source": [
    "def running_max(encoded_input, window_size=3):\n",
    "    encoded_output = np.zeros_like(encoded_input)\n",
    "    for t in range(encoded_input.shape[0]):\n",
    "        window = encoded_input[t - window_size + 1 :t + 1]\n",
    "        frequencies = window.sum(axis=0)\n",
    "        winner = frequencies.argmax()\n",
    "        encoded_output[t, winner] = 1.\n",
    "    return encoded_output"
   ]
  },
  {
   "cell_type": "markdown",
   "metadata": {},
   "source": [
    "Let's run this function on the binary represenation of an example string of symbols:"
   ]
  },
  {
   "cell_type": "code",
   "execution_count": 8,
   "metadata": {
    "collapsed": true
   },
   "outputs": [],
   "source": [
    "input_sequence = 'abbaabcddccab'\n",
    "input_data = symbols_to_binarray(input_sequence)"
   ]
  },
  {
   "cell_type": "code",
   "execution_count": 9,
   "metadata": {
    "collapsed": false
   },
   "outputs": [
    {
     "name": "stdout",
     "output_type": "stream",
     "text": [
      "abbaabcddccab\n",
      "aabbaaabddcca\n"
     ]
    }
   ],
   "source": [
    "output_data = running_max(input_data)\n",
    "output_sequence = binarray_to_symbols(output_data)\n",
    "print(input_sequence)\n",
    "print(output_sequence)"
   ]
  },
  {
   "cell_type": "code",
   "execution_count": 10,
   "metadata": {
    "collapsed": false
   },
   "outputs": [
    {
     "data": {
      "image/png": "[encoded data removed]",
      "text/plain": [
       "<matplotlib.figure.Figure at 0x7fe8569859d0>"
      ]
     },
     "metadata": {},
     "output_type": "display_data"
    }
   ],
   "source": [
    "plot_parallel_tapes(input_data, output_data,\n",
    "                    input_sequence, output_sequence)"
   ]
  },
  {
   "cell_type": "markdown",
   "metadata": {},
   "source": [
    "This seems to work as expected. Note that in case of tie, 'a' is favored over 'b', 'b' over 'c' and so on. The function to learn is therefore fully deterministic. Let's generate a reference dataset for our RNN experiments.\n",
    "\n",
    "For let's start with random input sequences:"
   ]
  },
  {
   "cell_type": "code",
   "execution_count": 11,
   "metadata": {
    "collapsed": true
   },
   "outputs": [],
   "source": [
    "def generate_sequences(n_sequences=1000, min_length=5, max_length=15,\n",
    "                       alphabet=ALPHABET, seed=None):\n",
    "    sequences = []\n",
    "    rng = np.random.RandomState(seed)\n",
    "    for i in range(n_sequences):\n",
    "        length = rng.randint(min_length, max_length)\n",
    "        sequences.append(\"\".join(rng.choice(ALPHABET, length)))\n",
    "    return sequences"
   ]
  },
  {
   "cell_type": "code",
   "execution_count": 12,
   "metadata": {
    "collapsed": false
   },
   "outputs": [
    {
     "data": {
      "text/plain": [
       "['addddbdbca', 'caaacbcddcab', 'bbabadadbc', 'cdabd', 'dcdabbbd']"
      ]
     },
     "execution_count": 12,
     "metadata": {},
     "output_type": "execute_result"
    }
   ],
   "source": [
    "generate_sequences(n_sequences=5, seed=0)"
   ]
  },
  {
   "cell_type": "markdown",
   "metadata": {},
   "source": [
    "The `seed` parameter makes possible to control the random number generator to get seemingly random yet reproducible deterministic outcomes:"
   ]
  },
  {
   "cell_type": "code",
   "execution_count": 13,
   "metadata": {
    "collapsed": false
   },
   "outputs": [
    {
     "data": {
      "text/plain": [
       "['addddbdbca', 'caaacbcddcab', 'bbabadadbc', 'cdabd', 'dcdabbbd']"
      ]
     },
     "execution_count": 13,
     "metadata": {},
     "output_type": "execute_result"
    }
   ],
   "source": [
    "generate_sequences(n_sequences=5, seed=0)"
   ]
  },
  {
   "cell_type": "code",
   "execution_count": 14,
   "metadata": {
    "collapsed": false
   },
   "outputs": [
    {
     "data": {
      "text/plain": [
       "['daadbdbdaa', 'adbacb', 'acbcada', 'addbbdc', 'cbbbd']"
      ]
     },
     "execution_count": 14,
     "metadata": {},
     "output_type": "execute_result"
    }
   ],
   "source": [
    "generate_sequences(n_sequences=5, seed=1)"
   ]
  },
  {
   "cell_type": "markdown",
   "metadata": {},
   "source": [
    "Now that we have random input sequences, we can compute the expected ouput for each of them and generate a full dataset to train our networks:"
   ]
  },
  {
   "cell_type": "code",
   "execution_count": 15,
   "metadata": {
    "collapsed": false
   },
   "outputs": [],
   "source": [
    "def generate_running_max_task_data(n_sequences=1000, min_length=5,\n",
    "                                   max_length=15, window_size=3,\n",
    "                                   alphabet=ALPHABET, seed=None):\n",
    "    \n",
    "    # Generate the input sequences as symbols\n",
    "    input_sequences = generate_sequences(\n",
    "        n_sequences=n_sequences, min_length=min_length,\n",
    "        max_length=max_length, alphabet=alphabet, seed=seed)\n",
    "    output_sequences = []\n",
    "\n",
    "    # Allocate all the data arrays at once and pad with zeros\n",
    "    n_features = len(alphabet)\n",
    "    input_data = np.zeros((n_sequences, max_length, n_features),\n",
    "                          dtype=np.float32)\n",
    "    output_data = np.zeros((n_sequences, max_length, n_features),\n",
    "                           dtype=np.float32)\n",
    "    \n",
    "    for sequence_idx, input_sequence in enumerate(input_sequences):\n",
    "        # store the encoded sequence to the input tape\n",
    "        encoded_input = symbols_to_binarray(input_sequence)\n",
    "        input_data[sequence_idx, 0:len(input_sequence)] = encoded_input\n",
    "        encoded_output = running_max(encoded_input,\n",
    "                                     window_size=window_size)\n",
    "        output_data[sequence_idx, 0:len(encoded_output)] = encoded_output\n",
    "        output_sequences.append(binarray_to_symbols(encoded_output))\n",
    "\n",
    "    return input_sequences, output_sequences, input_data, output_data"
   ]
  },
  {
   "cell_type": "markdown",
   "metadata": {},
   "source": [
    "Let's try it to generate a toy dataset:"
   ]
  },
  {
   "cell_type": "code",
   "execution_count": 16,
   "metadata": {
    "collapsed": false
   },
   "outputs": [],
   "source": [
    "(\n",
    "    input_sequences,\n",
    "    output_sequences,\n",
    "    input_data,\n",
    "    output_data,\n",
    ") = generate_running_max_task_data(n_sequences=10, seed=0)"
   ]
  },
  {
   "cell_type": "code",
   "execution_count": 17,
   "metadata": {
    "collapsed": false
   },
   "outputs": [
    {
     "data": {
      "text/plain": [
       "[('addddbdbca', 'aadddddbba'),\n",
       " ('caaacbcddcab', 'aaaaaacbddaa'),\n",
       " ('bbabadadbc', 'aabbaaadab'),\n",
       " ('cdabd', 'aaaaa'),\n",
       " ('dcdabbbd', 'aadaabbb'),\n",
       " ('dcadd', 'aaaad'),\n",
       " ('dacaaab', 'aaaaaaa'),\n",
       " ('caabdabccd', 'aaaaaaaacc'),\n",
       " ('bbdbbdcddccda', 'aabbbbbdddcca'),\n",
       " ('babcadac', 'aabaaaaa')]"
      ]
     },
     "execution_count": 17,
     "metadata": {},
     "output_type": "execute_result"
    }
   ],
   "source": [
    "zip(input_sequences, output_sequences)"
   ]
  },
  {
   "cell_type": "code",
   "execution_count": 18,
   "metadata": {
    "collapsed": false
   },
   "outputs": [
    {
     "data": {
      "image/png": "[encoded data removed]",
      "text/plain": [
       "<matplotlib.figure.Figure at 0x7fe8567bc450>"
      ]
     },
     "metadata": {},
     "output_type": "display_data"
    },
    {
     "data": {
      "image/png": "[encoded data removed]",
      "text/plain": [
       "<matplotlib.figure.Figure at 0x7fe8566d6190>"
      ]
     },
     "metadata": {},
     "output_type": "display_data"
    },
    {
     "data": {
      "image/png": "[encoded data removed]",
      "text/plain": [
       "<matplotlib.figure.Figure at 0x7fe8567984d0>"
      ]
     },
     "metadata": {},
     "output_type": "display_data"
    }
   ],
   "source": [
    "for i in range(3):\n",
    "    plot_parallel_tapes(input_data[i], output_data[i],\n",
    "                        input_sequences[i], output_sequences[i])"
   ]
  },
  {
   "cell_type": "code",
   "execution_count": 19,
   "metadata": {
    "collapsed": false
   },
   "outputs": [
    {
     "data": {
      "text/plain": [
       "(10, 15, 4)"
      ]
     },
     "execution_count": 19,
     "metadata": {},
     "output_type": "execute_result"
    }
   ],
   "source": [
    "input_data.shape"
   ]
  },
  {
   "cell_type": "markdown",
   "metadata": {},
   "source": [
    "Let's generate some reference data for this task with fixed random seeds to make it possible to compare the results of different study groups on the same data.\n",
    "\n",
    "We create 2 datasets, one with only short sequences (from 5 to 15 steps in the input sequence) and one with long sequences (from 20 to 50 steps)."
   ]
  },
  {
   "cell_type": "code",
   "execution_count": 20,
   "metadata": {
    "collapsed": true
   },
   "outputs": [],
   "source": [
    "!rm -rf data/running_max_task"
   ]
  },
  {
   "cell_type": "code",
   "execution_count": 21,
   "metadata": {
    "collapsed": false
   },
   "outputs": [],
   "source": [
    "dataset_specs = [\n",
    "    ('short', dict(min_length=5, max_length=15, window_size=3)),\n",
    "    ('long', dict(min_length=20, max_length=50, window_size=10)),\n",
    "]\n",
    "     \n",
    "fold_specs = [\n",
    "    ('train', dict(n_sequences=5000, seed=0)),\n",
    "    ('validation', dict(n_sequences=1000, seed=1)),\n",
    "    ('test', dict(n_sequences=1000, seed=2)),\n",
    "]\n",
    "\n",
    "data_folder = 'data/running_max'"
   ]
  },
  {
   "cell_type": "code",
   "execution_count": 22,
   "metadata": {
    "collapsed": false
   },
   "outputs": [
    {
     "name": "stdout",
     "output_type": "stream",
     "text": [
      "Saving symbol sequences data/running_max/short_sequence_train.json\n",
      "Saving data data/running_max/short_input_data_train.npy\n",
      "Saving data data/running_max/short_output_data_train.npy\n",
      "Saving symbol sequences data/running_max/short_sequence_validation.json\n",
      "Saving data data/running_max/short_input_data_validation.npy\n",
      "Saving data data/running_max/short_output_data_validation.npy\n",
      "Saving symbol sequences data/running_max/short_sequence_test.json\n",
      "Saving data data/running_max/short_input_data_test.npy\n",
      "Saving data data/running_max/short_output_data_test.npy\n",
      "Saving symbol sequences data/running_max/long_sequence_train.json\n",
      "Saving data data/running_max/long_input_data_train.npy\n",
      "Saving data data/running_max/long_output_data_train.npy\n",
      "Saving symbol sequences data/running_max/long_sequence_validation.json\n",
      "Saving data data/running_max/long_input_data_validation.npy\n",
      "Saving data data/running_max/long_output_data_validation.npy\n",
      "Saving symbol sequences data/running_max/long_sequence_test.json\n",
      "Saving data data/running_max/long_input_data_test.npy\n",
      "Saving data data/running_max/long_output_data_test.npy\n"
     ]
    }
   ],
   "source": [
    "import os.path as op\n",
    "import os\n",
    "from itertools import product\n",
    "import pandas as pd\n",
    "\n",
    "\n",
    "def write_dataset(data_folder, generate_data, dataset_specs, fold_specs):\n",
    "    if not op.isdir(data_folder):\n",
    "        os.makedirs(data_folder)\n",
    "\n",
    "    for combined_specs in product(dataset_specs, fold_specs):\n",
    "        ds_name, ds_params = combined_specs[0]\n",
    "        fold_name, fold_params = combined_specs[1]\n",
    "        params = {}\n",
    "        params.update(ds_params)\n",
    "        params.update(fold_params)\n",
    "\n",
    "        (input_sequences, output_sequences,\n",
    "         input_data, output_data) = generate_data(**params)\n",
    "\n",
    "        df = pd.DataFrame({\n",
    "                'input': input_sequences,\n",
    "                'output': output_sequences,\n",
    "        })\n",
    "        fname = op.join(data_folder, '%s_sequence_%s.json'\n",
    "                        % (ds_name, fold_name))\n",
    "        print('Saving symbol sequences %s' % fname)\n",
    "        df.to_json(fname, orient='records')\n",
    "\n",
    "        for name, data in (('input', input_data), ('output', output_data)):\n",
    "            fname = op.join(data_folder, '%s_%s_data_%s.npy'\n",
    "                            % (ds_name, name, fold_name))\n",
    "            print('Saving data %s' % fname)\n",
    "            np.save(fname, data)\n",
    "\n",
    "\n",
    "\n",
    "write_dataset(data_folder, generate_running_max_task_data,\n",
    "              dataset_specs, fold_specs)"
   ]
  },
  {
   "cell_type": "code",
   "execution_count": 23,
   "metadata": {
    "collapsed": false
   },
   "outputs": [
    {
     "data": {
      "text/html": [
       "<div style=\"max-height:1000px;max-width:1500px;overflow:auto;\">\n",
       "<table border=\"1\" class=\"dataframe\">\n",
       "  <thead>\n",
       "    <tr style=\"text-align: right;\">\n",
       "      <th></th>\n",
       "      <th>input</th>\n",
       "      <th>output</th>\n",
       "    </tr>\n",
       "  </thead>\n",
       "  <tbody>\n",
       "    <tr>\n",
       "      <th>0</th>\n",
       "      <td>addddbdbca</td>\n",
       "      <td>aadddddbba</td>\n",
       "    </tr>\n",
       "    <tr>\n",
       "      <th>1</th>\n",
       "      <td>caaacbcddcab</td>\n",
       "      <td>aaaaaacbddaa</td>\n",
       "    </tr>\n",
       "    <tr>\n",
       "      <th>2</th>\n",
       "      <td>bbabadadbc</td>\n",
       "      <td>aabbaaadab</td>\n",
       "    </tr>\n",
       "    <tr>\n",
       "      <th>3</th>\n",
       "      <td>cdabd</td>\n",
       "      <td>aaaaa</td>\n",
       "    </tr>\n",
       "    <tr>\n",
       "      <th>4</th>\n",
       "      <td>dcdabbbd</td>\n",
       "      <td>aadaabbb</td>\n",
       "    </tr>\n",
       "  </tbody>\n",
       "</table>\n",
       "</div>"
      ],
      "text/plain": [
       "          input        output\n",
       "0    addddbdbca    aadddddbba\n",
       "1  caaacbcddcab  aaaaaacbddaa\n",
       "2    bbabadadbc    aabbaaadab\n",
       "3         cdabd         aaaaa\n",
       "4      dcdabbbd      aadaabbb"
      ]
     },
     "execution_count": 23,
     "metadata": {},
     "output_type": "execute_result"
    }
   ],
   "source": [
    "short_symbols_train = pd.read_json(\n",
    "    'data/running_max/short_sequence_train.json')\n",
    "short_symbols_train.head()"
   ]
  },
  {
   "cell_type": "code",
   "execution_count": 24,
   "metadata": {
    "collapsed": true
   },
   "outputs": [],
   "source": [
    "X_short_train = np.load('data/running_max/short_input_data_train.npy')\n",
    "Y_short_train = np.load('data/running_max/short_output_data_train.npy')\n",
    "\n",
    "X_short_validation = np.load('data/running_max/short_input_data_validation.npy')\n",
    "Y_short_validation = np.load('data/running_max/short_output_data_validation.npy')"
   ]
  },
  {
   "cell_type": "code",
   "execution_count": 25,
   "metadata": {
    "collapsed": false
   },
   "outputs": [
    {
     "data": {
      "image/png": "[encoded data removed]",
      "text/plain": [
       "<matplotlib.figure.Figure at 0x7fe8563c8710>"
      ]
     },
     "metadata": {},
     "output_type": "display_data"
    },
    {
     "data": {
      "image/png": "[encoded data removed]",
      "text/plain": [
       "<matplotlib.figure.Figure at 0x7fe8566b3210>"
      ]
     },
     "metadata": {},
     "output_type": "display_data"
    },
    {
     "data": {
      "image/png": "[encoded data removed]",
      "text/plain": [
       "<matplotlib.figure.Figure at 0x7fe8567867d0>"
      ]
     },
     "metadata": {},
     "output_type": "display_data"
    }
   ],
   "source": [
    "for i in range(3):\n",
    "    plot_parallel_tapes(X_short_train[i], Y_short_train[i],\n",
    "                        short_symbols_train['input'][i],\n",
    "                        short_symbols_train['output'][i])"
   ]
  },
  {
   "cell_type": "markdown",
   "metadata": {},
   "source": [
    "## Training a simple RNN "
   ]
  },
  {
   "cell_type": "code",
   "execution_count": 26,
   "metadata": {
    "collapsed": false
   },
   "outputs": [
    {
     "data": {
      "text/plain": [
       "(5000, 15, 4)"
      ]
     },
     "execution_count": 26,
     "metadata": {},
     "output_type": "execute_result"
    }
   ],
   "source": [
    "X_short_train.shape"
   ]
  },
  {
   "cell_type": "code",
   "execution_count": 27,
   "metadata": {
    "collapsed": false
   },
   "outputs": [
    {
     "name": "stderr",
     "output_type": "stream",
     "text": [
      "Using gpu device 0: GRID K520\n",
      "/home/ubuntu/venv/src/theano/theano/scan_module/scan_perform_ext.py:133: RuntimeWarning: numpy.ndarray size changed, may indicate binary incompatibility\n",
      "  from scan_perform.scan_perform import *\n"
     ]
    },
    {
     "name": "stdout",
     "output_type": "stream",
     "text": [
      "loading init.py\n",
      "loaded rnn.py\n"
     ]
    }
   ],
   "source": [
    "from rnn import RnnMiniBatch\n",
    "\n",
    "n_features = X_short_train.shape[2]\n",
    "n_ouputs = Y_short_train.shape[2]\n",
    "batch_size = 256\n",
    "\n",
    "model = RnnMiniBatch(n_features, 10, n_ouputs, lr=.5,\n",
    "                     batch_size=batch_size, single_output=False,\n",
    "                     cost_function='cxe')"
   ]
  },
  {
   "cell_type": "code",
   "execution_count": 28,
   "metadata": {
    "collapsed": false
   },
   "outputs": [
    {
     "name": "stdout",
     "output_type": "stream",
     "text": [
      "epoch 1, train loss: 0.442942, validation loss: 0.429879\n",
      "epoch 2, train loss: 0.423195, validation loss: 0.422179\n",
      "epoch 3, train loss: 0.417154, validation loss: 0.416707\n",
      "epoch 4, train loss: 0.408709, validation loss: 0.403902\n",
      "epoch 5, train loss: 0.389882, validation loss: 0.379796\n",
      "epoch 6, train loss: 0.364326, validation loss: 0.356091\n",
      "epoch 7, train loss: 0.343569, validation loss: 0.340059\n",
      "epoch 8, train loss: 0.329770, validation loss: 0.328248\n",
      "epoch 9, train loss: 0.318630, validation loss: 0.317614\n",
      "epoch 10, train loss: 0.308448, validation loss: 0.308044\n",
      "epoch 11, train loss: 0.299857, validation loss: 0.300452\n",
      "epoch 12, train loss: 0.293134, validation loss: 0.294360\n",
      "epoch 13, train loss: 0.287559, validation loss: 0.289099\n",
      "epoch 14, train loss: 0.282649, validation loss: 0.284348\n",
      "epoch 15, train loss: 0.278163, validation loss: 0.279920\n",
      "epoch 16, train loss: 0.273954, validation loss: 0.275702\n",
      "epoch 17, train loss: 0.269935, validation loss: 0.271641\n",
      "epoch 18, train loss: 0.266058, validation loss: 0.267703\n",
      "epoch 19, train loss: 0.262283, validation loss: 0.263842\n",
      "epoch 20, train loss: 0.258532, validation loss: 0.259946\n",
      "epoch 21, train loss: 0.254651, validation loss: 0.255809\n",
      "epoch 22, train loss: 0.250412, validation loss: 0.251137\n",
      "epoch 23, train loss: 0.245549, validation loss: 0.245572\n",
      "epoch 24, train loss: 0.239925, validation loss: 0.238849\n",
      "epoch 25, train loss: 0.233926, validation loss: 0.231495\n",
      "epoch 26, train loss: 0.228380, validation loss: 0.225695\n",
      "epoch 27, train loss: 0.222520, validation loss: 0.221567\n",
      "epoch 28, train loss: 0.221785, validation loss: 0.229555\n",
      "epoch 29, train loss: 0.217984, validation loss: 0.213340\n",
      "epoch 30, train loss: 0.213146, validation loss: 0.212245\n",
      "epoch 31, train loss: 0.212146, validation loss: 0.220545\n",
      "epoch 32, train loss: 0.209476, validation loss: 0.204569\n",
      "epoch 33, train loss: 0.204283, validation loss: 0.205200\n",
      "epoch 34, train loss: 0.205859, validation loss: 0.211697\n",
      "epoch 35, train loss: 0.202107, validation loss: 0.197473\n",
      "epoch 36, train loss: 0.196261, validation loss: 0.195495\n",
      "epoch 37, train loss: 0.201064, validation loss: 0.205571\n",
      "epoch 38, train loss: 0.196261, validation loss: 0.192417\n",
      "epoch 39, train loss: 0.191423, validation loss: 0.190531\n",
      "epoch 40, train loss: 0.195954, validation loss: 0.195649\n",
      "epoch 41, train loss: 0.191899, validation loss: 0.202017\n",
      "epoch 42, train loss: 0.193328, validation loss: 0.187407\n",
      "epoch 43, train loss: 0.187970, validation loss: 0.191398\n",
      "epoch 44, train loss: 0.192172, validation loss: 0.195589\n",
      "epoch 45, train loss: 0.188532, validation loss: 0.184422\n",
      "epoch 46, train loss: 0.183820, validation loss: 0.183377\n",
      "epoch 47, train loss: 0.191031, validation loss: 0.187517\n",
      "epoch 48, train loss: 0.184197, validation loss: 0.181966\n",
      "epoch 49, train loss: 0.185614, validation loss: 0.200067\n",
      "epoch 50, train loss: 0.183803, validation loss: 0.179595\n",
      "epoch 51, train loss: 0.180810, validation loss: 0.188325\n",
      "epoch 52, train loss: 0.183632, validation loss: 0.187173\n",
      "epoch 53, train loss: 0.181975, validation loss: 0.177116\n",
      "epoch 54, train loss: 0.177557, validation loss: 0.200677\n",
      "epoch 55, train loss: 0.182473, validation loss: 0.174965\n",
      "epoch 56, train loss: 0.179248, validation loss: 0.178677\n",
      "epoch 57, train loss: 0.175653, validation loss: 0.187442\n",
      "epoch 58, train loss: 0.178138, validation loss: 0.172824\n",
      "epoch 59, train loss: 0.176511, validation loss: 0.180254\n",
      "epoch 60, train loss: 0.174267, validation loss: 0.172823\n",
      "epoch 61, train loss: 0.174476, validation loss: 0.175460\n",
      "epoch 62, train loss: 0.173068, validation loss: 0.170983\n",
      "epoch 63, train loss: 0.172426, validation loss: 0.173705\n",
      "epoch 64, train loss: 0.171448, validation loss: 0.169321\n",
      "epoch 65, train loss: 0.170580, validation loss: 0.171842\n",
      "epoch 66, train loss: 0.169876, validation loss: 0.167637\n",
      "epoch 67, train loss: 0.168805, validation loss: 0.170150\n",
      "epoch 68, train loss: 0.168303, validation loss: 0.165968\n",
      "epoch 69, train loss: 0.167086, validation loss: 0.168587\n",
      "epoch 70, train loss: 0.166727, validation loss: 0.164306\n",
      "epoch 71, train loss: 0.165403, validation loss: 0.167090\n",
      "epoch 72, train loss: 0.165142, validation loss: 0.162649\n",
      "epoch 73, train loss: 0.163747, validation loss: 0.165606\n",
      "epoch 74, train loss: 0.163552, validation loss: 0.161001\n",
      "epoch 75, train loss: 0.162114, validation loss: 0.164104\n",
      "epoch 76, train loss: 0.161963, validation loss: 0.159374\n",
      "epoch 77, train loss: 0.160506, validation loss: 0.162579\n",
      "epoch 78, train loss: 0.160390, validation loss: 0.157786\n",
      "epoch 79, train loss: 0.158937, validation loss: 0.161045\n",
      "epoch 80, train loss: 0.158846, validation loss: 0.156252\n",
      "epoch 81, train loss: 0.157418, validation loss: 0.159526\n",
      "epoch 82, train loss: 0.157347, validation loss: 0.154783\n",
      "epoch 83, train loss: 0.155961, validation loss: 0.158046\n",
      "epoch 84, train loss: 0.155900, validation loss: 0.153382\n",
      "epoch 85, train loss: 0.154572, validation loss: 0.156617\n",
      "epoch 86, train loss: 0.154511, validation loss: 0.152050\n",
      "epoch 87, train loss: 0.153254, validation loss: 0.155217\n",
      "epoch 88, train loss: 0.153179, validation loss: 0.150779\n",
      "epoch 89, train loss: 0.152005, validation loss: 0.153766\n",
      "epoch 90, train loss: 0.151902, validation loss: 0.149565\n",
      "epoch 91, train loss: 0.150825, validation loss: 0.152145\n",
      "epoch 92, train loss: 0.150693, validation loss: 0.148419\n",
      "epoch 93, train loss: 0.149690, validation loss: 0.150382\n",
      "epoch 94, train loss: 0.149576, validation loss: 0.147457\n",
      "epoch 95, train loss: 0.148586, validation loss: 0.148740\n",
      "epoch 96, train loss: 0.148471, validation loss: 0.146451\n",
      "epoch 97, train loss: 0.147553, validation loss: 0.147176\n",
      "epoch 98, train loss: 0.147294, validation loss: 0.145382\n",
      "epoch 99, train loss: 0.146589, validation loss: 0.145666\n",
      "epoch 100, train loss: 0.146242, validation loss: 0.144234\n",
      "epoch 101, train loss: 0.145601, validation loss: 0.144680\n",
      "epoch 102, train loss: 0.145241, validation loss: 0.143233\n",
      "epoch 103, train loss: 0.144576, validation loss: 0.143372\n",
      "epoch 104, train loss: 0.144523, validation loss: 0.144457\n",
      "epoch 105, train loss: 0.143888, validation loss: 0.142099\n",
      "epoch 106, train loss: 0.143665, validation loss: 0.143671\n",
      "epoch 107, train loss: 0.142942, validation loss: 0.141184\n",
      "epoch 108, train loss: 0.142700, validation loss: 0.142349\n",
      "epoch 109, train loss: 0.142168, validation loss: 0.142936\n",
      "epoch 110, train loss: 0.142319, validation loss: 0.140693\n",
      "epoch 111, train loss: 0.141126, validation loss: 0.139690\n",
      "epoch 112, train loss: 0.141432, validation loss: 0.140531\n",
      "epoch 113, train loss: 0.140737, validation loss: 0.139758\n",
      "epoch 114, train loss: 0.140389, validation loss: 0.138774\n",
      "epoch 115, train loss: 0.140204, validation loss: 0.137980\n",
      "epoch 116, train loss: 0.140508, validation loss: 0.137789\n",
      "epoch 117, train loss: 0.139124, validation loss: 0.138129\n",
      "epoch 118, train loss: 0.138474, validation loss: 0.136711\n",
      "epoch 119, train loss: 0.139128, validation loss: 0.136578\n",
      "epoch 120, train loss: 0.138635, validation loss: 0.136093\n",
      "epoch 121, train loss: 0.137463, validation loss: 0.136221\n",
      "epoch 122, train loss: 0.139463, validation loss: 0.137283\n",
      "epoch 123, train loss: 0.137812, validation loss: 0.135010\n",
      "epoch 124, train loss: 0.136756, validation loss: 0.139441\n",
      "epoch 125, train loss: 0.138164, validation loss: 0.137053\n",
      "epoch 126, train loss: 0.136633, validation loss: 0.136287\n",
      "epoch 127, train loss: 0.138346, validation loss: 0.137319\n",
      "Validation score stopped improving\n"
     ]
    }
   ],
   "source": [
    "epochs = 500\n",
    "original_patience = 3\n",
    "tolerance = 1e-4\n",
    "best_val_loss = None\n",
    "patience = original_patience\n",
    "\n",
    "for epoch in range(epochs):\n",
    "    train_loss, val_loss = 0, 0\n",
    "    num_batch_train = len(X_short_train) / batch_size\n",
    "    for i in range(num_batch_train):\n",
    "        start_idx = i * batch_size\n",
    "        end_idx = (i + 1) * batch_size\n",
    "        X_train = X_short_train[start_idx:end_idx]\n",
    "        Y_train = Y_short_train[start_idx:end_idx]\n",
    "        train_loss += model.train(X_train, Y_train) / num_batch_train\n",
    "    \n",
    "    # Monitor the validation score at each epoch\n",
    "    num_batch_validation = len(X_short_validation) / batch_size\n",
    "    for i in range(num_batch_validation):\n",
    "        start_idx = i * batch_size\n",
    "        end_idx = (i + 1) * batch_size\n",
    "        X_val = X_short_validation[start_idx:end_idx]\n",
    "        Y_val = Y_short_validation[start_idx:end_idx]\n",
    "        val_loss += model.loss(X_val, Y_val) / num_batch_validation\n",
    "\n",
    "    print(\"epoch %d, train loss: %f, validation loss: %f\"\n",
    "          % (epoch + 1, train_loss, val_loss))\n",
    "    \n",
    "    # Patience based early stopping on validation score\n",
    "    if best_val_loss is None:\n",
    "        best_val_loss = val_loss\n",
    "    elif val_loss < best_val_loss - tolerance:\n",
    "        patience = original_patience\n",
    "        best_val_loss = val_loss\n",
    "    else:\n",
    "        patience -= 1\n",
    "        if patience < 0:\n",
    "            print(\"Validation score stopped improving\")\n",
    "            break"
   ]
  },
  {
   "cell_type": "markdown",
   "metadata": {},
   "source": [
    "Let's compute some predictions to visualize what the network predicts:"
   ]
  },
  {
   "cell_type": "code",
   "execution_count": 29,
   "metadata": {
    "collapsed": false
   },
   "outputs": [
    {
     "data": {
      "text/plain": [
       "(1000, 15, 4)"
      ]
     },
     "execution_count": 29,
     "metadata": {},
     "output_type": "execute_result"
    }
   ],
   "source": [
    "X_short_validation.shape"
   ]
  },
  {
   "cell_type": "code",
   "execution_count": 30,
   "metadata": {
    "collapsed": false
   },
   "outputs": [
    {
     "data": {
      "text/plain": [
       "(256, 15, 4)"
      ]
     },
     "execution_count": 30,
     "metadata": {},
     "output_type": "execute_result"
    }
   ],
   "source": [
    "X_validation_batch = X_short_validation[0:256]\n",
    "X_validation_batch.shape"
   ]
  },
  {
   "cell_type": "code",
   "execution_count": 31,
   "metadata": {
    "collapsed": true
   },
   "outputs": [],
   "source": [
    "predicted = model.predictions(X_validation_batch)"
   ]
  },
  {
   "cell_type": "code",
   "execution_count": 32,
   "metadata": {
    "collapsed": false
   },
   "outputs": [
    {
     "data": {
      "text/plain": [
       "(256, 15, 4)"
      ]
     },
     "execution_count": 32,
     "metadata": {},
     "output_type": "execute_result"
    }
   ],
   "source": [
    "predicted.shape"
   ]
  },
  {
   "cell_type": "markdown",
   "metadata": {},
   "source": [
    "Input symbols for the first sequence of the first batch:"
   ]
  },
  {
   "cell_type": "code",
   "execution_count": 33,
   "metadata": {
    "collapsed": false
   },
   "outputs": [
    {
     "data": {
      "text/plain": [
       "'daadbdbdaaaaaaa'"
      ]
     },
     "execution_count": 33,
     "metadata": {},
     "output_type": "execute_result"
    }
   ],
   "source": [
    "binarray_to_symbols(X_validation_batch[0])"
   ]
  },
  {
   "cell_type": "markdown",
   "metadata": {},
   "source": [
    "Predicted symbols:"
   ]
  },
  {
   "cell_type": "code",
   "execution_count": 34,
   "metadata": {
    "collapsed": false
   },
   "outputs": [
    {
     "data": {
      "text/plain": [
       "'aaaaadbdaaacbdd'"
      ]
     },
     "execution_count": 34,
     "metadata": {},
     "output_type": "execute_result"
    }
   ],
   "source": [
    "binarray_to_symbols(predicted[0])"
   ]
  },
  {
   "cell_type": "markdown",
   "metadata": {},
   "source": [
    "Expected / correct output:"
   ]
  },
  {
   "cell_type": "code",
   "execution_count": 35,
   "metadata": {
    "collapsed": false
   },
   "outputs": [
    {
     "data": {
      "text/plain": [
       "'aaaaadbdaaaaaaa'"
      ]
     },
     "execution_count": 35,
     "metadata": {},
     "output_type": "execute_result"
    }
   ],
   "source": [
    "binarray_to_symbols(Y_short_validation[0])"
   ]
  },
  {
   "cell_type": "code",
   "execution_count": 36,
   "metadata": {
    "collapsed": false
   },
   "outputs": [
    {
     "data": {
      "image/png": "[encoded data removed]",
      "text/plain": [
       "<matplotlib.figure.Figure at 0x7fe833316d90>"
      ]
     },
     "metadata": {},
     "output_type": "display_data"
    }
   ],
   "source": [
    "plot_parallel_tapes(Y_short_validation[0], predicted[0],\n",
    "                    binarray_to_symbols(X_validation_batch[0]),\n",
    "                    binarray_to_symbols(predicted[0]))"
   ]
  },
  {
   "cell_type": "markdown",
   "metadata": {},
   "source": [
    "## Generating data for a simple memory task\n",
    "\n",
    "The goal of this task is to output the 2nd and 5th element of random input sequences.\n",
    "\n",
    "To solve it, the RNN has to rember the current position (count the element of the sequence) and store some representation of the 2nd and 5th element in its recurrent layer activations.  This task can be made artificially hard by increasing the average lentgh of the sequences as it is likely to be harder to memorize old events."
   ]
  },
  {
   "cell_type": "code",
   "execution_count": 37,
   "metadata": {
    "collapsed": false
   },
   "outputs": [
    {
     "data": {
      "text/plain": [
       "['addddbdbca', 'caaacbcddcab', 'bbabadadbc', 'cdabd', 'dcdabbbd']"
      ]
     },
     "execution_count": 37,
     "metadata": {},
     "output_type": "execute_result"
    }
   ],
   "source": [
    "generate_sequences(n_sequences=5, min_length=5, max_length=15, seed=0)"
   ]
  },
  {
   "cell_type": "markdown",
   "metadata": {},
   "source": [
    "Let's generate the sequences as a data array padded with zeros."
   ]
  },
  {
   "cell_type": "code",
   "execution_count": 38,
   "metadata": {
    "collapsed": true
   },
   "outputs": [],
   "source": [
    "def generate_memory_task_data(n_sequences=1000, min_length=5,\n",
    "                              max_length=15, alphabet=ALPHABET,\n",
    "                              seed=None):\n",
    "    \n",
    "    # Generate the input sequences as symbols\n",
    "    input_sequences = generate_sequences(\n",
    "        n_sequences=n_sequences, min_length=min_length,\n",
    "        max_length=max_length, alphabet=alphabet, seed=seed)\n",
    "    output_sequences = []\n",
    "    \n",
    "    # 2 steps are used for the expected output\n",
    "    n_steps_per_sequence = (max_length + 2)\n",
    "\n",
    "    # Allocate all the data arrays at once and pad with zeros\n",
    "    n_features = len(alphabet)\n",
    "    input_data = np.zeros((n_sequences, n_steps_per_sequence, n_features),\n",
    "                          dtype=np.float32)\n",
    "    output_data = np.zeros((n_sequences, n_steps_per_sequence, n_features),\n",
    "                           dtype=np.float32)\n",
    "    \n",
    "    for sequence_idx, input_sequence in enumerate(input_sequences):\n",
    "        # store the encoded sequence to the input tape\n",
    "        encoded_input = symbols_to_binarray(input_sequence)\n",
    "        input_data[sequence_idx, 0:len(input_sequence)] = encoded_input\n",
    "        \n",
    "        # store the encoded output to the output tape by taking\n",
    "        # the 2nd and 5th symbols of the input sequence\n",
    "        output_sequence = input_sequence[1] + input_sequence[4]\n",
    "        output_sequences.append(output_sequence)\n",
    "        encoded_output = symbols_to_binarray(output_sequence)\n",
    "        start = len(input_sequence)\n",
    "        stop = start + 2\n",
    "        output_data[sequence_idx, start:stop] = encoded_output\n",
    "        \n",
    "    return input_sequences, output_sequences, input_data, output_data"
   ]
  },
  {
   "cell_type": "markdown",
   "metadata": {},
   "source": [
    "Let's generate some reference data for this task with fixed random seeds to make it possible to compare the results of different study groups on the same data.\n",
    "\n",
    "Again, we create 2 datasets, one with only short sequences (from 5 to 15 steps in the input sequence) and one with long sequences (from 20 to 50 steps)."
   ]
  },
  {
   "cell_type": "code",
   "execution_count": 39,
   "metadata": {
    "collapsed": false
   },
   "outputs": [],
   "source": [
    "!rm -rf data/memory_task"
   ]
  },
  {
   "cell_type": "code",
   "execution_count": 40,
   "metadata": {
    "collapsed": false
   },
   "outputs": [
    {
     "name": "stdout",
     "output_type": "stream",
     "text": [
      "Saving symbol sequences data/memory_task/short_sequence_train.json\n",
      "Saving data data/memory_task/short_input_data_train.npy\n",
      "Saving data data/memory_task/short_output_data_train.npy\n",
      "Saving symbol sequences data/memory_task/short_sequence_validation.json\n",
      "Saving data data/memory_task/short_input_data_validation.npy\n",
      "Saving data data/memory_task/short_output_data_validation.npy\n",
      "Saving symbol sequences data/memory_task/short_sequence_test.json\n",
      "Saving data data/memory_task/short_input_data_test.npy\n",
      "Saving data data/memory_task/short_output_data_test.npy\n",
      "Saving symbol sequences data/memory_task/long_sequence_train.json\n",
      "Saving data data/memory_task/long_input_data_train.npy\n",
      "Saving data data/memory_task/long_output_data_train.npy\n",
      "Saving symbol sequences data/memory_task/long_sequence_validation.json\n",
      "Saving data data/memory_task/long_input_data_validation.npy\n",
      "Saving data data/memory_task/long_output_data_validation.npy\n",
      "Saving symbol sequences data/memory_task/long_sequence_test.json\n",
      "Saving data data/memory_task/long_input_data_test.npy\n",
      "Saving data data/memory_task/long_output_data_test.npy\n"
     ]
    }
   ],
   "source": [
    "dataset_specs = [\n",
    "    ('short', dict(min_length=5, max_length=15)),\n",
    "    ('long', dict(min_length=20, max_length=50)),\n",
    "]\n",
    "     \n",
    "fold_specs = [\n",
    "    ('train', dict(n_sequences=5000, seed=0)),\n",
    "    ('validation', dict(n_sequences=1000, seed=1)),\n",
    "    ('test', dict(n_sequences=1000, seed=2)),\n",
    "]\n",
    "\n",
    "data_folder = 'data/memory_task'\n",
    "write_dataset(data_folder, generate_memory_task_data,\n",
    "              dataset_specs, fold_specs)"
   ]
  },
  {
   "cell_type": "markdown",
   "metadata": {},
   "source": [
    "It's possible to reload the save data using pandas for loading the symbolic data in the json files and numpy for the binary data in the `.npy` files:"
   ]
  },
  {
   "cell_type": "code",
   "execution_count": 41,
   "metadata": {
    "collapsed": false
   },
   "outputs": [],
   "source": [
    "short_symbols_train = pd.read_json(\n",
    "    'data/memory_task/short_sequence_train.json')"
   ]
  },
  {
   "cell_type": "code",
   "execution_count": 42,
   "metadata": {
    "collapsed": false
   },
   "outputs": [
    {
     "data": {
      "text/html": [
       "<div style=\"max-height:1000px;max-width:1500px;overflow:auto;\">\n",
       "<table border=\"1\" class=\"dataframe\">\n",
       "  <thead>\n",
       "    <tr style=\"text-align: right;\">\n",
       "      <th></th>\n",
       "      <th>input</th>\n",
       "      <th>output</th>\n",
       "    </tr>\n",
       "  </thead>\n",
       "  <tbody>\n",
       "    <tr>\n",
       "      <th>0</th>\n",
       "      <td>addddbdbca</td>\n",
       "      <td>dd</td>\n",
       "    </tr>\n",
       "    <tr>\n",
       "      <th>1</th>\n",
       "      <td>caaacbcddcab</td>\n",
       "      <td>ac</td>\n",
       "    </tr>\n",
       "    <tr>\n",
       "      <th>2</th>\n",
       "      <td>bbabadadbc</td>\n",
       "      <td>ba</td>\n",
       "    </tr>\n",
       "    <tr>\n",
       "      <th>3</th>\n",
       "      <td>cdabd</td>\n",
       "      <td>dd</td>\n",
       "    </tr>\n",
       "    <tr>\n",
       "      <th>4</th>\n",
       "      <td>dcdabbbd</td>\n",
       "      <td>cb</td>\n",
       "    </tr>\n",
       "  </tbody>\n",
       "</table>\n",
       "</div>"
      ],
      "text/plain": [
       "          input output\n",
       "0    addddbdbca     dd\n",
       "1  caaacbcddcab     ac\n",
       "2    bbabadadbc     ba\n",
       "3         cdabd     dd\n",
       "4      dcdabbbd     cb"
      ]
     },
     "execution_count": 42,
     "metadata": {},
     "output_type": "execute_result"
    }
   ],
   "source": [
    "short_symbols_train.head()"
   ]
  },
  {
   "cell_type": "code",
   "execution_count": 43,
   "metadata": {
    "collapsed": false
   },
   "outputs": [],
   "source": [
    "X_short_train = np.load('data/memory_task/short_input_data_train.npy')\n",
    "Y_short_train = np.load('data/memory_task/short_output_data_train.npy')"
   ]
  },
  {
   "cell_type": "code",
   "execution_count": 44,
   "metadata": {
    "collapsed": false
   },
   "outputs": [
    {
     "data": {
      "image/png": "[encoded data removed]",
      "text/plain": [
       "<matplotlib.figure.Figure at 0x7fe8568102d0>"
      ]
     },
     "metadata": {},
     "output_type": "display_data"
    },
    {
     "data": {
      "image/png": "[encoded data removed]",
      "text/plain": [
       "<matplotlib.figure.Figure at 0x7fe8330a65d0>"
      ]
     },
     "metadata": {},
     "output_type": "display_data"
    },
    {
     "data": {
      "image/png": "[encoded data removed]",
      "text/plain": [
       "<matplotlib.figure.Figure at 0x7fe832e045d0>"
      ]
     },
     "metadata": {},
     "output_type": "display_data"
    }
   ],
   "source": [
    "for i in range(3):\n",
    "    plot_parallel_tapes(X_short_train[i], Y_short_train[i],\n",
    "                        short_symbols_train['input'][i],\n",
    "                        short_symbols_train['output'][i])"
   ]
  },
  {
   "cell_type": "code",
   "execution_count": null,
   "metadata": {
    "collapsed": true
   },
   "outputs": [],
   "source": []
  }
 ],
 "metadata": {
  "kernelspec": {
   "display_name": "Python 2",
   "language": "python",
   "name": "python2"
  },
  "language_info": {
   "codemirror_mode": {
    "name": "ipython",
    "version": 2
   },
   "file_extension": ".py",
   "mimetype": "text/x-python",
   "name": "python",
   "nbconvert_exporter": "python",
   "pygments_lexer": "ipython2",
   "version": "2.7.6"
  }
 },
 "nbformat": 4,
 "nbformat_minor": 0
}
