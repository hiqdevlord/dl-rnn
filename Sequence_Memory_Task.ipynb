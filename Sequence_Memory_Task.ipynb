{
 "cells": [
  {
   "cell_type": "markdown",
   "metadata": {},
   "source": [
    "# Memorizing elements of a sequence"
   ]
  },
  {
   "cell_type": "markdown",
   "metadata": {},
   "source": [
    "The goal of this task is to memorize some specific elements of a sequence a symbols with variable length. This toy example is useful to test the capacity of RNNs to keep representations in memory over long sequences."
   ]
  },
  {
   "cell_type": "code",
   "execution_count": 1,
   "metadata": {
    "collapsed": true
   },
   "outputs": [],
   "source": [
    "%matplotlib inline"
   ]
  },
  {
   "cell_type": "markdown",
   "metadata": {},
   "source": [
    "## One-hot encoding for string of symbols"
   ]
  },
  {
   "cell_type": "code",
   "execution_count": 2,
   "metadata": {
    "collapsed": false
   },
   "outputs": [],
   "source": [
    "# %load binary_code.py\n",
    "import numpy as np\n",
    "import matplotlib.pyplot as plt\n",
    "\n",
    "ALPHABET = np.asarray(list(\"abcd\"), dtype=object)\n",
    "\n",
    "\n",
    "def symbols_to_binarray(s, alphabet=ALPHABET, dtype=np.float32):\n",
    "    \"\"\"One-hot encode a sequence of symbols\n",
    "    \n",
    "    This numerical representation of a string of symbols is useful\n",
    "    to feed the data and expected labels to the input and output\n",
    "    layers of recurrent networks.\n",
    "    \"\"\"\n",
    "    alphabet = np.asarray(list(alphabet), dtype=object)\n",
    "    n_samples = len(s)\n",
    "    n_features = len(alphabet)\n",
    "\n",
    "    mapping = dict(zip(alphabet, range(n_features)))\n",
    "    \n",
    "    code = np.zeros((n_samples, n_features), dtype=dtype)\n",
    "    for i, e in enumerate(s):\n",
    "        code[i, mapping[e]] = 1.0\n",
    "    return code\n",
    "\n",
    "\n",
    "def binarray_to_symbols(code, alphabet=ALPHABET):\n",
    "    \"\"\"Convert encoded data by to a string of symbols\"\"\"\n",
    "    n_samples, n_features = code.shape\n",
    "    if n_features != len(alphabet):\n",
    "        raise ValueError(\n",
    "            \"code should have %d columns (instead of %d).\"\n",
    "            % (len(alphabet), n_features)\n",
    "        )\n",
    "\n",
    "    # Make sure that the alphabet is a numpy array of symbols\n",
    "    # to make it possible to leverage numpy fancy indexing\n",
    "    if not isinstance(alphabet, np.ndarray):\n",
    "        alphabet = np.asarray(list(alphabet), dtype='object')\n",
    "\n",
    "    return \"\".join(alphabet[code.argmax(axis=1)])\n",
    "\n",
    "\n",
    "def plot_binary_tape(encoded_sequence, alphabet=ALPHABET):\n",
    "    plt.matshow(encoded_sequence, cmap=plt.cm.gray)\n",
    "    plt.xticks(np.arange(len(alphabet)), alphabet)\n",
    "    \n",
    "\n",
    "def plot_parallel_tapes(input_data, output_data,\n",
    "                        input_symbols, output_symbols):\n",
    "    fig, axes = plt.subplots(nrows=1, ncols=2, figsize=(5, 10))\n",
    "    for ax, data in zip(axes, [input_data, output_data]):\n",
    "        ax.matshow(data, cmap=plt.cm.gray)\n",
    "        ax.set_xticks(np.arange(len(ALPHABET)))\n",
    "        ax.set_xticklabels(ALPHABET, fontsize=18)\n",
    "    fig.tight_layout()\n",
    "    plt.title(\"input: %r, output: %r\" % (input_symbols, output_symbols))"
   ]
  },
  {
   "cell_type": "code",
   "execution_count": 3,
   "metadata": {
    "collapsed": false
   },
   "outputs": [
    {
     "data": {
      "text/plain": [
       "array([[ 1.,  0.,  0.,  0.],\n",
       "       [ 0.,  1.,  0.,  0.],\n",
       "       [ 0.,  0.,  1.,  0.],\n",
       "       [ 0.,  0.,  0.,  1.],\n",
       "       [ 1.,  0.,  0.,  0.],\n",
       "       [ 0.,  0.,  1.,  0.],\n",
       "       [ 0.,  1.,  0.,  0.],\n",
       "       [ 0.,  0.,  0.,  1.]], dtype=float32)"
      ]
     },
     "execution_count": 3,
     "metadata": {},
     "output_type": "execute_result"
    }
   ],
   "source": [
    "symbol_sequence = \"abcdacbd\"\n",
    "encoded_sequence = symbols_to_binarray(symbol_sequence)\n",
    "encoded_sequence"
   ]
  },
  {
   "cell_type": "code",
   "execution_count": 4,
   "metadata": {
    "collapsed": false
   },
   "outputs": [
    {
     "data": {
      "image/png": "[encoded data removed]",
      "text/plain": [
       "<matplotlib.figure.Figure at 0x105e95b90>"
      ]
     },
     "metadata": {},
     "output_type": "display_data"
    }
   ],
   "source": [
    "plot_binary_tape(encoded_sequence)"
   ]
  },
  {
   "cell_type": "code",
   "execution_count": 5,
   "metadata": {
    "collapsed": false
   },
   "outputs": [
    {
     "data": {
      "image/png": "[encoded data removed]",
      "text/plain": [
       "<matplotlib.figure.Figure at 0x105efc890>"
      ]
     },
     "metadata": {},
     "output_type": "display_data"
    }
   ],
   "source": [
    "plot_binary_tape(symbols_to_binarray('dcabd'))"
   ]
  },
  {
   "cell_type": "markdown",
   "metadata": {},
   "source": [
    "## Decoding back to a sequence of symbols"
   ]
  },
  {
   "cell_type": "markdown",
   "metadata": {
    "collapsed": true
   },
   "source": [
    "The `binary_to_symbols` function computes the inverse operation:"
   ]
  },
  {
   "cell_type": "code",
   "execution_count": 6,
   "metadata": {
    "collapsed": false
   },
   "outputs": [
    {
     "data": {
      "text/plain": [
       "'abcdacbd'"
      ]
     },
     "execution_count": 6,
     "metadata": {},
     "output_type": "execute_result"
    }
   ],
   "source": [
    "binarray_to_symbols(encoded_sequence)"
   ]
  },
  {
   "cell_type": "markdown",
   "metadata": {},
   "source": [
    "## Running count of symbols in a sequence\n",
    "\n",
    "Let's generate a dataset where the output tape should display the symbol that was the most frequent in the recent history of the input tape (over a fixed window size):"
   ]
  },
  {
   "cell_type": "code",
   "execution_count": 7,
   "metadata": {
    "collapsed": true
   },
   "outputs": [],
   "source": [
    "def running_max(encoded_input, window_size=3):\n",
    "    encoded_output = np.zeros_like(encoded_input)\n",
    "    for t in range(encoded_input.shape[0]):\n",
    "        window = encoded_input[t - window_size + 1 :t + 1]\n",
    "        frequencies = window.sum(axis=0)\n",
    "        winner = frequencies.argmax()\n",
    "        encoded_output[t, winner] = 1.\n",
    "    return encoded_output"
   ]
  },
  {
   "cell_type": "markdown",
   "metadata": {},
   "source": [
    "Let's run this function on the binary represenation of an example string of symbols:"
   ]
  },
  {
   "cell_type": "code",
   "execution_count": 8,
   "metadata": {
    "collapsed": true
   },
   "outputs": [],
   "source": [
    "input_sequence = 'abbaabcddccab'\n",
    "input_data = symbols_to_binarray(input_sequence)"
   ]
  },
  {
   "cell_type": "code",
   "execution_count": 9,
   "metadata": {
    "collapsed": false
   },
   "outputs": [
    {
     "name": "stdout",
     "output_type": "stream",
     "text": [
      "abbaabcddccab\n",
      "aabbaaabddcca\n"
     ]
    }
   ],
   "source": [
    "output_data = running_max(input_data)\n",
    "output_sequence = binarray_to_symbols(output_data)\n",
    "print(input_sequence)\n",
    "print(output_sequence)"
   ]
  },
  {
   "cell_type": "code",
   "execution_count": 10,
   "metadata": {
    "collapsed": false
   },
   "outputs": [
    {
     "data": {
      "image/png": "[encoded data removed]",
      "text/plain": [
       "<matplotlib.figure.Figure at 0x105e95a90>"
      ]
     },
     "metadata": {},
     "output_type": "display_data"
    }
   ],
   "source": [
    "plot_parallel_tapes(input_data, output_data,\n",
    "                    input_sequence, output_sequence)"
   ]
  },
  {
   "cell_type": "markdown",
   "metadata": {},
   "source": [
    "This seems to work as expected. Note that in case of tie, 'a' is favored over 'b', 'b' over 'c' and so on. The function to learn is therefore fully deterministic. Let's generate a reference dataset for our RNN experiments.\n",
    "\n",
    "For let's start with random input sequences:"
   ]
  },
  {
   "cell_type": "code",
   "execution_count": 11,
   "metadata": {
    "collapsed": true
   },
   "outputs": [],
   "source": [
    "def generate_sequences(n_sequences=1000, min_length=5, max_length=15,\n",
    "                       alphabet=ALPHABET, seed=None):\n",
    "    sequences = []\n",
    "    rng = np.random.RandomState(seed)\n",
    "    for i in range(n_sequences):\n",
    "        length = rng.randint(min_length, max_length)\n",
    "        sequences.append(\"\".join(rng.choice(ALPHABET, length)))\n",
    "    return sequences"
   ]
  },
  {
   "cell_type": "code",
   "execution_count": 12,
   "metadata": {
    "collapsed": false
   },
   "outputs": [
    {
     "data": {
      "text/plain": [
       "['addddbdbca', 'caaacbcddcab', 'bbabadadbc', 'cdabd', 'dcdabbbd']"
      ]
     },
     "execution_count": 12,
     "metadata": {},
     "output_type": "execute_result"
    }
   ],
   "source": [
    "generate_sequences(n_sequences=5, seed=0)"
   ]
  },
  {
   "cell_type": "markdown",
   "metadata": {},
   "source": [
    "The `seed` parameter makes possible to control the random number generator to get seemingly random yet reproducible deterministic outcomes:"
   ]
  },
  {
   "cell_type": "code",
   "execution_count": 13,
   "metadata": {
    "collapsed": false
   },
   "outputs": [
    {
     "data": {
      "text/plain": [
       "['addddbdbca', 'caaacbcddcab', 'bbabadadbc', 'cdabd', 'dcdabbbd']"
      ]
     },
     "execution_count": 13,
     "metadata": {},
     "output_type": "execute_result"
    }
   ],
   "source": [
    "generate_sequences(n_sequences=5, seed=0)"
   ]
  },
  {
   "cell_type": "code",
   "execution_count": 14,
   "metadata": {
    "collapsed": false
   },
   "outputs": [
    {
     "data": {
      "text/plain": [
       "['daadbdbdaa', 'adbacb', 'acbcada', 'addbbdc', 'cbbbd']"
      ]
     },
     "execution_count": 14,
     "metadata": {},
     "output_type": "execute_result"
    }
   ],
   "source": [
    "generate_sequences(n_sequences=5, seed=1)"
   ]
  },
  {
   "cell_type": "markdown",
   "metadata": {},
   "source": [
    "Now that we have random input sequences, we can compute the expected ouput for each of them and generate a full dataset to train our networks:"
   ]
  },
  {
   "cell_type": "code",
   "execution_count": 15,
   "metadata": {
    "collapsed": false
   },
   "outputs": [],
   "source": [
    "def generate_running_max_task_data(n_sequences=1000, min_length=5,\n",
    "                                   max_length=15, window_size=3,\n",
    "                                   alphabet=ALPHABET, seed=None):\n",
    "    \n",
    "    # Generate the input sequences as symbols\n",
    "    input_sequences = generate_sequences(\n",
    "        n_sequences=n_sequences, min_length=min_length,\n",
    "        max_length=max_length, alphabet=alphabet, seed=seed)\n",
    "    output_sequences = []\n",
    "\n",
    "    # Allocate all the data arrays at once and pad with zeros\n",
    "    n_features = len(alphabet)\n",
    "    input_data = np.zeros((n_sequences, max_length, n_features),\n",
    "                          dtype=np.float32)\n",
    "    output_data = np.zeros((n_sequences, max_length, n_features),\n",
    "                           dtype=np.float32)\n",
    "    \n",
    "    for sequence_idx, input_sequence in enumerate(input_sequences):\n",
    "        # store the encoded sequence to the input tape\n",
    "        encoded_input = symbols_to_binarray(input_sequence)\n",
    "        input_data[sequence_idx, 0:len(input_sequence)] = encoded_input\n",
    "        encoded_output = running_max(encoded_input,\n",
    "                                     window_size=window_size)\n",
    "        output_data[sequence_idx, 0:len(encoded_output)] = encoded_output\n",
    "        output_sequences.append(binarray_to_symbols(encoded_output))\n",
    "\n",
    "    return input_sequences, output_sequences, input_data, output_data"
   ]
  },
  {
   "cell_type": "markdown",
   "metadata": {},
   "source": [
    "Let's try it to generate a toy dataset:"
   ]
  },
  {
   "cell_type": "code",
   "execution_count": 16,
   "metadata": {
    "collapsed": false
   },
   "outputs": [
    {
     "ename": "NameError",
     "evalue": "name 'generate_memory_task_data' is not defined",
     "output_type": "error",
     "traceback": [
      "\u001b[0;31m---------------------------------------------------------------------------\u001b[0m",
      "\u001b[0;31mNameError\u001b[0m                                 Traceback (most recent call last)",
      "\u001b[0;32m<ipython-input-16-77657b7c65b1>\u001b[0m in \u001b[0;36m<module>\u001b[0;34m()\u001b[0m\n\u001b[1;32m      4\u001b[0m     \u001b[0minput_data\u001b[0m\u001b[0;34m,\u001b[0m\u001b[0;34m\u001b[0m\u001b[0m\n\u001b[1;32m      5\u001b[0m     \u001b[0moutput_data\u001b[0m\u001b[0;34m,\u001b[0m\u001b[0;34m\u001b[0m\u001b[0m\n\u001b[0;32m----> 6\u001b[0;31m ) = generate_memory_task_data(n_sequences=10, seed=0)\n\u001b[0m",
      "\u001b[0;31mNameError\u001b[0m: name 'generate_memory_task_data' is not defined"
     ]
    }
   ],
   "source": [
    "(\n",
    "    input_sequences,\n",
    "    output_sequences,\n",
    "    input_data,\n",
    "    output_data,\n",
    ") = generate_memory_task_data(n_sequences=10, seed=0)"
   ]
  },
  {
   "cell_type": "code",
   "execution_count": null,
   "metadata": {
    "collapsed": false
   },
   "outputs": [],
   "source": [
    "zip(input_sequences, output_sequences)"
   ]
  },
  {
   "cell_type": "code",
   "execution_count": null,
   "metadata": {
    "collapsed": false
   },
   "outputs": [],
   "source": [
    "for i in range(3):\n",
    "    plot_parallel_tapes(input_data[i], output_data[i],\n",
    "                        input_sequences[i], output_sequences[i])"
   ]
  },
  {
   "cell_type": "code",
   "execution_count": null,
   "metadata": {
    "collapsed": false
   },
   "outputs": [],
   "source": [
    "input_data.shape"
   ]
  },
  {
   "cell_type": "markdown",
   "metadata": {},
   "source": [
    "Let's generate some reference data for this task with fixed random seeds to make it possible to compare the results of different study groups on the same data.\n",
    "\n",
    "We create 2 datasets, one with only short sequences (from 5 to 15 steps in the input sequence) and one with long sequences (from 20 to 50 steps)."
   ]
  },
  {
   "cell_type": "code",
   "execution_count": null,
   "metadata": {
    "collapsed": true
   },
   "outputs": [],
   "source": [
    "!rm -rf data/running_max_task"
   ]
  },
  {
   "cell_type": "code",
   "execution_count": null,
   "metadata": {
    "collapsed": false
   },
   "outputs": [],
   "source": [
    "dataset_specs = [\n",
    "    ('short', dict(min_length=5, max_length=15, window_size=3)),\n",
    "    ('long', dict(min_length=20, max_length=50, window_size=10)),\n",
    "]\n",
    "     \n",
    "fold_specs = [\n",
    "    ('train', dict(n_sequences=5000, seed=0)),\n",
    "    ('validation', dict(n_sequences=1000, seed=1)),\n",
    "    ('test', dict(n_sequences=1000, seed=2)),\n",
    "]\n",
    "\n",
    "data_folder = 'data/running_max'"
   ]
  },
  {
   "cell_type": "code",
   "execution_count": null,
   "metadata": {
    "collapsed": false
   },
   "outputs": [],
   "source": [
    "import os.path as op\n",
    "import os\n",
    "from itertools import product\n",
    "import pandas as pd\n",
    "\n",
    "\n",
    "def write_dataset(data_folder, generate_data, dataset_specs, fold_specs):\n",
    "    if not op.isdir(data_folder):\n",
    "        os.makedirs(data_folder)\n",
    "\n",
    "    for combined_specs in product(dataset_specs, fold_specs):\n",
    "        ds_name, ds_params = combined_specs[0]\n",
    "        fold_name, fold_params = combined_specs[1]\n",
    "        params = {}\n",
    "        params.update(ds_params)\n",
    "        params.update(fold_params)\n",
    "\n",
    "        (input_sequences, output_sequences,\n",
    "         input_data, output_data) = generate_data(**params)\n",
    "\n",
    "        df = pd.DataFrame({\n",
    "                'input': input_sequences,\n",
    "                'output': output_sequences,\n",
    "        })\n",
    "        fname = op.join(data_folder, '%s_sequence_%s.json'\n",
    "                        % (ds_name, fold_name))\n",
    "        print('Saving symbol sequences %s' % fname)\n",
    "        df.to_json(fname, orient='records')\n",
    "\n",
    "        for name, data in (('input', input_data), ('output', output_data)):\n",
    "            fname = op.join(data_folder, '%s_%s_data_%s.npy'\n",
    "                            % (ds_name, name, fold_name))\n",
    "            print('Saving data %s' % fname)\n",
    "            np.save(fname, data)\n",
    "\n",
    "\n",
    "\n",
    "write_dataset(data_folder, generate_running_max_task_data,\n",
    "              dataset_specs, fold_specs)"
   ]
  },
  {
   "cell_type": "code",
   "execution_count": null,
   "metadata": {
    "collapsed": false
   },
   "outputs": [],
   "source": [
    "short_symbols_train = pd.read_json(\n",
    "    'data/running_max/short_sequence_train.json')\n",
    "short_symbols_train.head()"
   ]
  },
  {
   "cell_type": "code",
   "execution_count": null,
   "metadata": {
    "collapsed": true
   },
   "outputs": [],
   "source": [
    "X_short_train = np.load('data/running_max/short_input_data_train.npy')\n",
    "Y_short_train = np.load('data/running_max/short_output_data_train.npy')"
   ]
  },
  {
   "cell_type": "code",
   "execution_count": null,
   "metadata": {
    "collapsed": false
   },
   "outputs": [],
   "source": [
    "for i in range(3):\n",
    "    plot_parallel_tapes(X_short_train[i], Y_short_train[i],\n",
    "                        short_symbols_train['input'][i],\n",
    "                        short_symbols_train['output'][i])"
   ]
  },
  {
   "cell_type": "markdown",
   "metadata": {},
   "source": [
    "## Generating data for a simple memory task\n",
    "\n",
    "The goal of this task is to output the 2nd and 5th element of random input sequences.\n",
    "\n",
    "To solve it, the RNN has to rember the current position (count the element of the sequence) and store some representation of the 2nd and 5th element in its recurrent layer activations.  This task can be made artificially hard by increasing the average lentgh of the sequences as it is likely to be harder to memorize old events."
   ]
  },
  {
   "cell_type": "code",
   "execution_count": null,
   "metadata": {
    "collapsed": false
   },
   "outputs": [],
   "source": [
    "generate_sequences(n_sequences=5, min_length=5, max_length=15, seed=0)"
   ]
  },
  {
   "cell_type": "markdown",
   "metadata": {},
   "source": [
    "Let's generate the sequences as a data array padded with zeros."
   ]
  },
  {
   "cell_type": "code",
   "execution_count": null,
   "metadata": {
    "collapsed": true
   },
   "outputs": [],
   "source": [
    "def generate_memory_task_data(n_sequences=1000, min_length=5,\n",
    "                              max_length=15, alphabet=ALPHABET,\n",
    "                              seed=None):\n",
    "    \n",
    "    # Generate the input sequences as symbols\n",
    "    input_sequences = generate_sequences(\n",
    "        n_sequences=n_sequences, min_length=min_length,\n",
    "        max_length=max_length, alphabet=alphabet, seed=seed)\n",
    "    output_sequences = []\n",
    "    \n",
    "    # 2 steps are used for the expected output\n",
    "    n_steps_per_sequence = (max_length + 2)\n",
    "\n",
    "    # Allocate all the data arrays at once and pad with zeros\n",
    "    n_features = len(alphabet)\n",
    "    input_data = np.zeros((n_sequences, n_steps_per_sequence, n_features),\n",
    "                          dtype=np.float32)\n",
    "    output_data = np.zeros((n_sequences, n_steps_per_sequence, n_features),\n",
    "                           dtype=np.float32)\n",
    "    \n",
    "    for sequence_idx, input_sequence in enumerate(input_sequences):\n",
    "        # store the encoded sequence to the input tape\n",
    "        encoded_input = symbols_to_binarray(input_sequence)\n",
    "        input_data[sequence_idx, 0:len(input_sequence)] = encoded_input\n",
    "        \n",
    "        # store the encoded output to the output tape by taking\n",
    "        # the 2nd and 5th symbols of the input sequence\n",
    "        output_sequence = input_sequence[1] + input_sequence[4]\n",
    "        output_sequences.append(output_sequence)\n",
    "        encoded_output = symbols_to_binarray(output_sequence)\n",
    "        start = len(input_sequence)\n",
    "        stop = start + 2\n",
    "        output_data[sequence_idx, start:stop] = encoded_output\n",
    "        \n",
    "    return input_sequences, output_sequences, input_data, output_data"
   ]
  },
  {
   "cell_type": "markdown",
   "metadata": {},
   "source": [
    "Let's generate some reference data for this task with fixed random seeds to make it possible to compare the results of different study groups on the same data.\n",
    "\n",
    "Again, we create 2 datasets, one with only short sequences (from 5 to 15 steps in the input sequence) and one with long sequences (from 20 to 50 steps)."
   ]
  },
  {
   "cell_type": "code",
   "execution_count": null,
   "metadata": {
    "collapsed": false
   },
   "outputs": [],
   "source": [
    "!rm -rf data/memory_task"
   ]
  },
  {
   "cell_type": "code",
   "execution_count": null,
   "metadata": {
    "collapsed": false
   },
   "outputs": [],
   "source": [
    "dataset_specs = [\n",
    "    ('short', dict(min_length=5, max_length=15)),\n",
    "    ('long', dict(min_length=20, max_length=50)),\n",
    "]\n",
    "     \n",
    "fold_specs = [\n",
    "    ('train', dict(n_sequences=5000, seed=0)),\n",
    "    ('validation', dict(n_sequences=1000, seed=1)),\n",
    "    ('test', dict(n_sequences=1000, seed=2)),\n",
    "]\n",
    "\n",
    "data_folder = 'data/memory_task'\n",
    "write_dataset(data_folder, generate_memory_task_data,\n",
    "              dataset_specs, fold_specs)"
   ]
  },
  {
   "cell_type": "markdown",
   "metadata": {},
   "source": [
    "It's possible to reload the save data using pandas for loading the symbolic data in the json files and numpy for the binary data in the `.npy` files:"
   ]
  },
  {
   "cell_type": "code",
   "execution_count": null,
   "metadata": {
    "collapsed": false
   },
   "outputs": [],
   "source": [
    "short_symbols_train = pd.read_json(\n",
    "    'data/memory_task/short_sequence_train.json')"
   ]
  },
  {
   "cell_type": "code",
   "execution_count": null,
   "metadata": {
    "collapsed": false
   },
   "outputs": [],
   "source": [
    "short_symbols_train.head()"
   ]
  },
  {
   "cell_type": "code",
   "execution_count": null,
   "metadata": {
    "collapsed": false
   },
   "outputs": [],
   "source": [
    "X_short_train = np.load('data/memory_task/short_input_data_train.npy')\n",
    "Y_short_train = np.load('data/memory_task/short_output_data_train.npy')"
   ]
  },
  {
   "cell_type": "code",
   "execution_count": null,
   "metadata": {
    "collapsed": false
   },
   "outputs": [],
   "source": [
    "for i in range(3):\n",
    "    plot_parallel_tapes(X_short_train[i], Y_short_train[i],\n",
    "                        short_symbols_train['input'][i],\n",
    "                        short_symbols_train['output'][i])"
   ]
  }
 ],
 "metadata": {
  "kernelspec": {
   "display_name": "Python 2",
   "language": "python",
   "name": "python2"
  },
  "language_info": {
   "codemirror_mode": {
    "name": "ipython",
    "version": 2
   },
   "file_extension": ".py",
   "mimetype": "text/x-python",
   "name": "python",
   "nbconvert_exporter": "python",
   "pygments_lexer": "ipython2",
   "version": "2.7.9"
  }
 },
 "nbformat": 4,
 "nbformat_minor": 0
}
