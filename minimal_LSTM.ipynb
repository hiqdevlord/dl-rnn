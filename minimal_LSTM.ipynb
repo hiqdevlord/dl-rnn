{
 "cells": [
  {
   "cell_type": "code",
   "execution_count": null,
   "metadata": {
    "collapsed": false
   },
   "outputs": [],
   "source": [
    "import numpy as np\n",
    "import theano\n",
    "import theano.tensor as T\n",
    "from theano import shared \n",
    "from collections import OrderedDict\n",
    "\n",
    "dtype=T.config.floatX"
   ]
  },
  {
   "cell_type": "code",
   "execution_count": 2,
   "metadata": {
    "collapsed": false
   },
   "outputs": [],
   "source": [
    "def sample_weights(sizeX, sizeY):\n",
    "    W = np.random.uniform(low=-1., high=1., size=(sizeX, sizeY))\n",
    "    _, svs, _ = np.linalg.svd(W)\n",
    "    values = np.asarray(W / svs[0], dtype=dtype)\n",
    "    return shared(values, borrow=True) \n",
    "\n",
    "class LSTM:\n",
    "    def __init__(self, n_in, n_lstm, n_out):        \n",
    "        self.n_in = n_in\n",
    "        self.n_lstm = n_lstm\n",
    "        self.n_out = n_out\n",
    "        self.W_xi = sample_weights(n_in, n_lstm)\n",
    "        self.W_hi = sample_weights(n_lstm, n_lstm)\n",
    "        self.W_ci = sample_weights(n_lstm, n_lstm)\n",
    "        self.b_i = shared(np.cast[dtype](np.random.uniform(-0.5,.5,size = n_lstm)))\n",
    "        self.W_xf = sample_weights(n_in, n_lstm)\n",
    "        self.W_hf = sample_weights(n_lstm, n_lstm)\n",
    "        self.W_cf = sample_weights(n_lstm, n_lstm)\n",
    "        self.b_f = shared(np.cast[dtype](np.random.uniform(0, 1.,size = n_lstm)))\n",
    "        self.W_xc = sample_weights(n_in, n_lstm)\n",
    "        self.W_hc = sample_weights(n_lstm, n_lstm)\n",
    "        self.b_c = shared(np.zeros(n_lstm, dtype=dtype))\n",
    "        self.W_xo = sample_weights(n_in, n_lstm)\n",
    "        self.W_ho = sample_weights(n_lstm, n_lstm)\n",
    "        self.W_co = sample_weights(n_lstm, n_lstm)\n",
    "        self.b_o = shared(np.cast[dtype](np.random.uniform(-0.5,.5,size = n_lstm)))\n",
    "        self.W_hy = sample_weights(n_lstm, n_out)\n",
    "        self.b_y = shared(np.zeros(n_out, dtype=dtype))\n",
    "        self.params = [self.W_xi, self.W_hi, self.W_ci, self.b_i, \n",
    "                       self.W_xf, self.W_hf, self.W_cf, self.b_f, \n",
    "                       self.W_xc, self.W_hc, self.b_c, \n",
    "                       self.W_ho, self.W_co, self.W_co, self.b_o, \n",
    "                       self.W_hy, self.b_y]\n",
    "                \n",
    "\n",
    "        def step_lstm(x_t, h_tm1, c_tm1):\n",
    "            i_t = T.nnet.sigmoid(T.dot(x_t, self.W_xi) + T.dot(h_tm1, self.W_hi) + T.dot(c_tm1, self.W_ci) + self.b_i)\n",
    "            f_t = T.nnet.sigmoid(T.dot(x_t, self.W_xf) + T.dot(h_tm1, self.W_hf) + T.dot(c_tm1, self.W_cf) + self.b_f)\n",
    "            c_t = f_t * c_tm1 + i_t * T.tanh(T.dot(x_t, self.W_xc) + T.dot(h_tm1, self.W_hc) + self.b_c) \n",
    "            o_t = T.nnet.sigmoid(T.dot(x_t, self.W_xo)+ T.dot(h_tm1, self.W_ho) + T.dot(c_t, self.W_co)  + self.b_o)\n",
    "            h_t = o_t * T.tanh(c_t)\n",
    "            y_t = T.nnet.sigmoid(T.dot(h_t, self.W_hy) + self.b_y) \n",
    "            return [h_t, c_t, y_t]\n",
    "        \n",
    "        X = T.matrix() # X is a sequence of vector   \n",
    "        Y = T.matrix() # Y is a sequence of vector\n",
    "        h0 = shared(np.zeros(self.n_lstm, dtype=dtype)) # initial hidden state \n",
    "        c0 = shared(np.zeros(self.n_lstm, dtype=dtype)) # initial cell state\n",
    "        \n",
    "        [h_vals, c_vals, y_vals], _ = theano.scan(fn=step_lstm,                                  \n",
    "                                                  sequences=X,\n",
    "                                                  outputs_info=[h0, c0, None])\n",
    "        \n",
    "        self.output = y_vals\n",
    "    \n",
    "        cost = -T.mean(Y * T.log(y_vals)+ (1.- Y) * T.log(1. - y_vals))\n",
    "        lr = shared(np.cast[dtype](0.1))\n",
    "        gparams = T.grad(cost, self.params)\n",
    "        updates = OrderedDict()\n",
    "        for param, gparam in zip(self.params, gparams):\n",
    "            updates[param] = param - gparam * lr\n",
    "        self.train = theano.function(inputs = [X, Y], outputs = cost, updates=updates) \n",
    "        \n",
    "        self.pred = theano.function(inputs = [X], outputs = self.output)                \n",
    "            \n",
    "    def create_train(self, cost, lr):\n",
    "        gparams = T.grad(cost, self.params)\n",
    "        updates = OrderedDict()\n",
    "        for param, gparam in zip(self.params, gparams):\n",
    "            updates[param] = param - gparam * lr\n",
    "        return theano.function(inputs = [X, Y], outputs = cost, updates=updates) \n",
    "        \n",
    "    def create_pred(self):        \n",
    "        return theano.function(inputs = [X], outputs = self.output)\n"
   ]
  },
  {
   "cell_type": "code",
   "execution_count": null,
   "metadata": {
    "collapsed": false
   },
   "outputs": [],
   "source": [
    "model = LSTM(7, 50, 7)"
   ]
  },
  {
   "cell_type": "code",
   "execution_count": 61,
   "metadata": {
    "collapsed": true
   },
   "outputs": [
    {
     "data": {
      "text/plain": [
       "array([[ 0.44404912,  0.54889768,  0.50595653,  0.48602951,  0.52215582,\n",
       "         0.41718704,  0.4979817 ],\n",
       "       [ 0.44585481,  0.56249017,  0.48906904,  0.47611621,  0.55306828,\n",
       "         0.43845311,  0.50738233],\n",
       "       [ 0.44442102,  0.56151319,  0.49318475,  0.47775781,  0.55126017,\n",
       "         0.43592644,  0.50856906],\n",
       "       [ 0.44428554,  0.56243432,  0.49460772,  0.47738355,  0.55350947,\n",
       "         0.43670017,  0.50743496],\n",
       "       [ 0.4445456 ,  0.56140858,  0.49135998,  0.47786784,  0.5519433 ,\n",
       "         0.43466848,  0.50850576],\n",
       "       [ 0.4448041 ,  0.56337154,  0.49178609,  0.47771156,  0.55309385,\n",
       "         0.43593186,  0.50804907],\n",
       "       [ 0.44455197,  0.56388026,  0.49297667,  0.47771427,  0.55152595,\n",
       "         0.43546441,  0.5080983 ],\n",
       "       [ 0.44503286,  0.56241965,  0.49162626,  0.47813872,  0.55250764,\n",
       "         0.43882495,  0.5069074 ],\n",
       "       [ 0.44490701,  0.5625419 ,  0.49516577,  0.47700968,  0.55021876,\n",
       "         0.43521693,  0.50866044],\n",
       "       [ 0.44395417,  0.56130296,  0.49265003,  0.47781593,  0.55408704,\n",
       "         0.43563047,  0.5079757 ],\n",
       "       [ 0.44470736,  0.56063104,  0.4927913 ,  0.47707614,  0.55246794,\n",
       "         0.43574905,  0.50926548],\n",
       "       [ 0.44546875,  0.56111294,  0.49321529,  0.47693259,  0.55136633,\n",
       "         0.43568265,  0.50842148],\n",
       "       [ 0.44487023,  0.56284779,  0.49131459,  0.47748005,  0.55239052,\n",
       "         0.43536037,  0.50904393],\n",
       "       [ 0.44481689,  0.56172937,  0.49376461,  0.47679409,  0.55232769,\n",
       "         0.43573925,  0.50928563],\n",
       "       [ 0.44461772,  0.56369162,  0.49203825,  0.47825736,  0.5510987 ,\n",
       "         0.43589398,  0.50735325]], dtype=float32)"
      ]
     },
     "execution_count": 61,
     "metadata": {},
     "output_type": "execute_result"
    }
   ],
   "source": [
    "mode"
   ]
  },
  {
   "cell_type": "code",
   "execution_count": 25,
   "metadata": {
    "collapsed": false
   },
   "outputs": [],
   "source": [
    "\n",
    "X = np.random.uniform(low=-0.1, high=0.1, size=(100,15,10)).astype(dtype=dtype) \n",
    "Y = np.zeros(shape=(100,5)).astype(dtype=dtype)\n",
    "indices = np.random.randint(5, size=(100))\n",
    "for x in range(Y.shape[0]):\n",
    "    Y[x,indices[x]]=1."
   ]
  },
  {
   "cell_type": "code",
   "execution_count": 26,
   "metadata": {
    "collapsed": true
   },
   "outputs": [
    {
     "ename": "TypeError",
     "evalue": "('Bad input argument to theano function with name \"<ipython-input-22-d65de749fb1e>:40\"  at index 0(0-based)', 'Wrong number of dimensions: expected 2, got 3 with shape (100, 15, 10).')",
     "output_type": "error",
     "traceback": [
      "\u001b[1;31m---------------------------------------------------------------------------\u001b[0m",
      "\u001b[1;31mTypeError\u001b[0m                                 Traceback (most recent call last)",
      "\u001b[1;32m<ipython-input-26-a99868e45688>\u001b[0m in \u001b[0;36m<module>\u001b[1;34m()\u001b[0m\n\u001b[1;32m----> 1\u001b[1;33m \u001b[0mmodel\u001b[0m\u001b[1;33m.\u001b[0m\u001b[0mtrain\u001b[0m\u001b[1;33m(\u001b[0m\u001b[0mX\u001b[0m\u001b[1;33m,\u001b[0m\u001b[0mY\u001b[0m\u001b[1;33m)\u001b[0m\u001b[1;33m\u001b[0m\u001b[0m\n\u001b[0m",
      "\u001b[1;32m/usr/local/lib/python2.7/dist-packages/Theano-0.6.0-py2.7.egg/theano/compile/function_module.pyc\u001b[0m in \u001b[0;36m__call__\u001b[1;34m(self, *args, **kwargs)\u001b[0m\n\u001b[0;32m    495\u001b[0m                     \u001b[1;32mtry\u001b[0m\u001b[1;33m:\u001b[0m\u001b[1;33m\u001b[0m\u001b[0m\n\u001b[0;32m    496\u001b[0m                         s.storage[0] = s.type.filter(arg, strict=s.strict,\n\u001b[1;32m--> 497\u001b[1;33m                                 allow_downcast=s.allow_downcast)\n\u001b[0m\u001b[0;32m    498\u001b[0m \u001b[1;33m\u001b[0m\u001b[0m\n\u001b[0;32m    499\u001b[0m                     \u001b[1;32mexcept\u001b[0m \u001b[0mException\u001b[0m\u001b[1;33m,\u001b[0m \u001b[0me\u001b[0m\u001b[1;33m:\u001b[0m\u001b[1;33m\u001b[0m\u001b[0m\n",
      "\u001b[1;32m/usr/local/lib/python2.7/dist-packages/Theano-0.6.0-py2.7.egg/theano/tensor/type.pyc\u001b[0m in \u001b[0;36mfilter\u001b[1;34m(self, data, strict, allow_downcast)\u001b[0m\n\u001b[0;32m    155\u001b[0m             raise TypeError(\"Wrong number of dimensions: expected %s,\"\n\u001b[0;32m    156\u001b[0m                             \" got %s with shape %s.\" % (self.ndim, data.ndim,\n\u001b[1;32m--> 157\u001b[1;33m                                                         data.shape))\n\u001b[0m\u001b[0;32m    158\u001b[0m         \u001b[1;32mif\u001b[0m \u001b[1;32mnot\u001b[0m \u001b[0mdata\u001b[0m\u001b[1;33m.\u001b[0m\u001b[0mflags\u001b[0m\u001b[1;33m.\u001b[0m\u001b[0maligned\u001b[0m\u001b[1;33m:\u001b[0m\u001b[1;33m\u001b[0m\u001b[0m\n\u001b[0;32m    159\u001b[0m             \u001b[1;32mtry\u001b[0m\u001b[1;33m:\u001b[0m\u001b[1;33m\u001b[0m\u001b[0m\n",
      "\u001b[1;31mTypeError\u001b[0m: ('Bad input argument to theano function with name \"<ipython-input-22-d65de749fb1e>:40\"  at index 0(0-based)', 'Wrong number of dimensions: expected 2, got 3 with shape (100, 15, 10).')"
     ]
    }
   ],
   "source": [
    "model.train(X,Y)"
   ]
  },
  {
   "cell_type": "code",
   "execution_count": 32,
   "metadata": {
    "collapsed": false
   },
   "outputs": [
    {
     "name": "stdout",
     "output_type": "stream",
     "text": [
      "epoch 0 error: 506.78519845\n",
      "epoch 10 error: 21.6646672608\n",
      "epoch 20 error: 4.38932591164\n",
      "epoch 30 error: 1.8954052534\n",
      "epoch 40 error: 1.23063871096\n",
      "epoch 50 error: 1.38613807154\n",
      "epoch 60 error: 0.705777432944\n",
      "epoch 70 error: 0.568835470825\n",
      "epoch 80 error: 0.47584372235\n",
      "epoch 90 error: 0.409921698127\n"
     ]
    }
   ],
   "source": [
    "nb_epochs = 100\n",
    "#stupid and naive sgd\n",
    "for x in range(nb_epochs):\n",
    "    error = 0.\n",
    "    for j in range(len(train_data)):  \n",
    "        index = np.random.randint(0, len(train_data))\n",
    "        i, o = train_data[index]\n",
    "        train_cost = model.train(i, o)\n",
    "        error += train_cost\n",
    "    if x%10==0:\n",
    "            print \"epoch \"+str(x)+ \" error: \"+str(error)"
   ]
  },
  {
   "cell_type": "code",
   "execution_count": 29,
   "metadata": {
    "collapsed": true
   },
   "outputs": [],
   "source": [
    "import numpy as np\n",
    "\n",
    "chars='BTSXPVE'\n",
    "\n",
    "graph = [[(1,5),('T','P')] , [(1,2),('S','X')], \\\n",
    "           [(3,5),('S','X')], [(6,),('E')], \\\n",
    "           [(3,2),('V','P')], [(4,5),('V','T')] ]\n",
    "\n",
    "\n",
    "def in_grammar(word):\n",
    "    if word[0] != 'B':\n",
    "        return False\n",
    "    node = 0    \n",
    "    for c in word[1:]:\n",
    "        transitions = graph[node]\n",
    "        try:\n",
    "            node = transitions[0][transitions[1].index(c)]\n",
    "        except ValueError: # using exceptions for flow control in python is common\n",
    "            return False\n",
    "    return True        \n",
    "      \n",
    "def sequenceToWord(sequence):\n",
    "    \"\"\"\n",
    "    converts a sequence (one-hot) in a reber string\n",
    "    \"\"\"\n",
    "    reberString = ''\n",
    "    for s in sequence:\n",
    "        index = np.where(s==1.)[0][0]\n",
    "        reberString += chars[index]\n",
    "    return reberString\n",
    "    \n",
    "def generateSequences(minLength):\n",
    "    while True:\n",
    "        inchars = ['B']\n",
    "        node = 0\n",
    "        outchars = []    \n",
    "        while node != 6:\n",
    "            transitions = graph[node]\n",
    "            i = np.random.randint(0, len(transitions[0]))\n",
    "            inchars.append(transitions[1][i])\n",
    "            outchars.append(transitions[1])\n",
    "            node = transitions[0][i]\n",
    "        if len(inchars) > minLength:  \n",
    "            return inchars, outchars\n",
    "\n",
    "\n",
    "def get_one_example(minLength):\n",
    "    inchars, outchars = generateSequences(minLength)\n",
    "    inseq = []\n",
    "    outseq= []\n",
    "    for i,o in zip(inchars, outchars): \n",
    "        inpt = np.zeros(7)\n",
    "        inpt[chars.find(i)] = 1.     \n",
    "        outpt = np.zeros(7)\n",
    "        for oo in o:\n",
    "            outpt[chars.find(oo)] = 1.\n",
    "        inseq.append(inpt)\n",
    "        outseq.append(outpt)\n",
    "    return inseq, outseq\n",
    "\n",
    "\n",
    "def get_char_one_hot(char):\n",
    "    char_oh = np.zeros(7)\n",
    "    for c in char:\n",
    "        char_oh[chars.find(c)] = 1.\n",
    "    return [char_oh] \n",
    "    \n",
    "def get_n_examples(n, minLength=10):\n",
    "    examples = []\n",
    "    for i in xrange(n):\n",
    "        examples.append(get_one_example(minLength))\n",
    "    return examples\n",
    "\n",
    "emb_chars = \"TP\"\n",
    "\n",
    "\n",
    "def get_one_embedded_example(minLength=10):\n",
    "    i, o = get_one_example(minLength)\n",
    "    emb_char = emb_chars[np.random.randint(0, len(emb_chars))]\n",
    "    new_in = get_char_one_hot(('B',))\n",
    "    new_in += get_char_one_hot((emb_char,))\n",
    "    new_out= get_char_one_hot(emb_chars)\n",
    "    new_out+= get_char_one_hot('B',)\n",
    "    new_in += i\n",
    "    new_out += o\n",
    "    new_in += get_char_one_hot(('E',))\n",
    "    new_in += get_char_one_hot((emb_char,))\n",
    "    new_out += get_char_one_hot((emb_char, ))\n",
    "    new_out += get_char_one_hot(('E',))\n",
    "    return new_in, new_out\n",
    "    \n",
    "def get_n_embedded_examples(n, minLength=10):\n",
    "    examples = []\n",
    "    for i in xrange(n):\n",
    "        examples.append(get_one_embedded_example(minLength))\n",
    "    return examples"
   ]
  },
  {
   "cell_type": "code",
   "execution_count": 30,
   "metadata": {
    "collapsed": false
   },
   "outputs": [],
   "source": [
    "train_data = get_n_embedded_examples(1000)"
   ]
  },
  {
   "cell_type": "code",
   "execution_count": 33,
   "metadata": {
    "collapsed": false
   },
   "outputs": [
    {
     "name": "stdout",
     "output_type": "stream",
     "text": [
      "[ 0.  0.  0.  0.  1.  0.  0.]\n",
      "[ 0.  0.  0.  0.  1.  0.  0.]\n",
      "\n",
      "[ 0.  0.  0.  0.  1.  0.  0.]\n",
      "[ 0.  0.  0.  0.  1.  0.  0.]\n",
      "\n",
      "[ 0.  1.  0.  0.  0.  0.  0.]\n",
      "[ 0.  1.  0.  0.  0.  0.  0.]\n",
      "\n",
      "[ 0.  0.  0.  0.  1.  0.  0.]\n",
      "[ 0.  0.  0.  0.  1.  0.  0.]\n",
      "\n",
      "[ 0.  1.  0.  0.  0.  0.  0.]\n",
      "[ 0.  1.  0.  0.  0.  0.  0.]\n",
      "\n",
      "[ 0.  1.  0.  0.  0.  0.  0.]\n",
      "[ 0.  1.  0.  0.  0.  0.  0.]\n",
      "\n",
      "[ 0.  0.  0.  0.  1.  0.  0.]\n",
      "[ 0.  0.  0.  0.  1.  0.  0.]\n",
      "\n",
      "[ 0.  1.  0.  0.  0.  0.  0.]\n",
      "[ 0.  1.  0.  0.  0.  0.  0.]\n",
      "\n",
      "[ 0.  0.  0.  0.  1.  0.  0.]\n",
      "[ 0.  0.  0.  0.  1.  0.  0.]\n",
      "\n",
      "[ 0.  1.  0.  0.  0.  0.  0.]\n",
      "[ 0.  1.  0.  0.  0.  0.  0.]\n",
      "\n"
     ]
    }
   ],
   "source": [
    "test_data = get_n_embedded_examples(10)\n",
    "\n",
    "def print_out(test_data):\n",
    "    for i,o in test_data:\n",
    "        p = model.pred(i)\n",
    "        print o[-2] # target\n",
    "        print np.asarray([0. if x!=np.argmax(p[-2]) else 1. for x in range(7)]) # prediction\n",
    "        print \n",
    "print_out(test_data)"
   ]
  },
  {
   "cell_type": "code",
   "execution_count": 67,
   "metadata": {
    "collapsed": false
   },
   "outputs": [
    {
     "data": {
      "text/plain": [
       "[14, 14, 16, 14, 20, 14, 14, 14, 19, 14]"
      ]
     },
     "execution_count": 67,
     "metadata": {},
     "output_type": "execute_result"
    }
   ],
   "source": [
    "[len(x[0]) for x in test_data]"
   ]
  },
  {
   "cell_type": "code",
   "execution_count": 17,
   "metadata": {
    "collapsed": false
   },
   "outputs": [],
   "source": [
    "# word prediction\n",
    "import re\n",
    "import random\n",
    "import numpy as np\n",
    "from gensim import corpora\n",
    "\n",
    "\n",
    "def process(x):\n",
    "    return re.sub('\\W+', ' ', x).lower().split()\n",
    "\n",
    "\n",
    "class Corpus:\n",
    "    def __init__(self, seq_x=None, dic=None):                \n",
    "        self.seq_x = []\n",
    "        self.seq_y = []\n",
    "        self.matrix = []\n",
    "        self.idx2word = {}\n",
    "        self.word2idx = {}\n",
    "        if dic == None:\n",
    "            dictionary = corpora.Dictionary(process(line) for line in TextList + TitleList)\n",
    "            dictionary.filter_extremes(no_below=10,no_above=1.0, keep_n=100000)\n",
    "            dictionary.compactify()\n",
    "            self.idx2word = {k:v for (k,v) in dictionary.items()}\n",
    "            self.idx2word[len(self.idx2word)] = 'END'\n",
    "            self.word2idx = {v:k for (k,v) in self.idx2word.items()}\n",
    "            del dictionary\n",
    "        else:\n",
    "            self.idx2word = dic\n",
    "            self.idx2word[len(self.idx2word)] = 'END'\n",
    "            self.word2idx = {v:k for (k,v) in self.idx2word.items()}\n",
    "        self.vocsize = len(self.idx2word)\n",
    "\n",
    "        if seq_x!=None:\n",
    "            for line in seq_x:\n",
    "                words = filter(lambda w: w in self.word2idx, process(line))\n",
    "                self.seq_x.append(words)\n",
    "        '''for line in seq_y:\n",
    "            words = line.split()\n",
    "            self.seq_y.append(words)\n",
    "            words = filter(lambda w: w in dictionary, process(line))\n",
    "            self.seq_x.append(words)  \n",
    "            for word in words:\n",
    "                dic_freq[word] = dic_freq.get(word, 0) + 1'''\n",
    "        \n",
    "    def to_numpy(self):\n",
    "        \n",
    "        correct_seqs = [seq for seq in self.seq_x if len(seq) > 99]\n",
    "        self.matrix = np.zeros(shape=(len(correct_seqs), 100), dtype='int32')\n",
    "        for idx, seq in enumerate(correct_seqs):\n",
    "            seq_idxs = [self.word2idx[w] for w in seq[:100]]\n",
    "            if len(seq_idxs)<100:\n",
    "                continue\n",
    "            row = np.asarray(seq_idxs, dtype='int32')\n",
    "            self.matrix[idx,:] = row\n",
    "        return self.matrix\n",
    "        \n",
    "    def one_hot(self, x):\n",
    "        vec = np.zeros(size=(1,1,self.vocsize), dtype=dtype)\n",
    "        vec[1,1,x] = 1.0\n",
    "        return vec\n",
    "\n",
    "def make_dataset(matrix, pad, start=3, min_len=10, max_len=20):      \n",
    "    assert(start+max_len<matrix.shape[1])\n",
    "    dataset_x = np.ones(shape = (matrix.shape[0], max_len), dtype = 'int32') * pad\n",
    "    dataset_y = np.zeros(shape = (matrix.shape[0]), dtype = 'int32')        \n",
    "    for idx in range(matrix.shape[0]):\n",
    "        length = random.randint(min_len, max_len)\n",
    "\n",
    "        #pad with end seq                        \n",
    "        dataset_x[idx,0:length] = matrix[idx,start:start+length]    \n",
    "        dataset_y[idx] = matrix[idx,length]\n",
    "    return [dataset_x, dataset_y]\n",
    "        #voc = [k for (k,v) in dic_freq.items() if v>=min_freq]\n",
    "        #print \"loaded \"+ len(dic_freq) + \"words, kept \" + len(voc) + \"words\"\n",
    "        #self.idx_voc = {v:k for (k,v) in self.voc_idx.items()}\n",
    "        \n",
    "    #todo save / load\n",
    "            "
   ]
  },
  {
   "cell_type": "code",
   "execution_count": 4,
   "metadata": {
    "collapsed": false
   },
   "outputs": [
    {
     "name": "stdout",
     "output_type": "stream",
     "text": [
      "done: 10000\n",
      "done: 20000\n",
      "done: 30000\n",
      "done: 40000\n",
      "done: 50000\n",
      "done: 60000\n",
      "done: 70000\n",
      "done: 80000\n",
      "done: 90000\n",
      "done: 100000\n"
     ]
    }
   ],
   "source": [
    "import json\n",
    "filename = \"/media/charles/data/articles\"\n",
    "h = open(filename)\n",
    "all_jsons=[]\n",
    "for line in h:    \n",
    "    if line[0]=='[':\n",
    "        all_jsons.append(line[:-1])\n",
    "        \n",
    "TitleList = []\n",
    "TextList = []\n",
    "IndexList = []\n",
    "count = 0\n",
    "\n",
    "for oneJson in all_jsons:\n",
    "    u = json.loads(oneJson)\n",
    "    for item in u:\n",
    "        fields = item['fields']\n",
    "        TitleList.append(fields['title'])\n",
    "        TextList.append(fields['text'])\n",
    "        IndexList.append(item['rowKey'])\n",
    "        count+=1\n",
    "        if count%10000==0:\n",
    "            print(\"done: \"+str(count))\n",
    "\n",
    "all_jsons = []\n",
    "del all_jsons\n"
   ]
  },
  {
   "cell_type": "code",
   "execution_count": 73,
   "metadata": {
    "collapsed": false
   },
   "outputs": [],
   "source": [
    "voc = '%*abcdefghijklmnopqrstuvwxyz01234567890 ,.!?\\''\n",
    "def get_char_one_hot(char):\n",
    "    char_oh = np.zeros(len(voc))\n",
    "    for c in char:\n",
    "        char_oh[voc.find(c)] = 1.\n",
    "    return [char_oh]\n",
    "\n",
    "def get_one_hot_mat(index, mat, lens):\n",
    "    vec = mat[index]    \n",
    "    res_mat = np.zeros(shape=(lens[index]+1,len(voc)), dtype=dtype)\n",
    "    for i in range(lens[index]):        \n",
    "        res_mat[i][vec[i]] = 1\n",
    "    res_mat[lens[index]][0] = 1\n",
    "    return res_mat\n",
    "    \n",
    "def encode(string):\n",
    "    vec = np.asarray([voc.find(c) for c in string], dtype='int32')      \n",
    "    res_mat = np.zeros(shape=(len(string)+1,len(voc)), dtype='float32')\n",
    "    for i in range(len(string)):\n",
    "        res_mat[i][vec[i]] = 1.\n",
    "    res_mat[len(string)][0] = 1.\n",
    "    return res_mat\n",
    "\n",
    "def pred(model, inputvec):\n",
    "    c = \"\"\n",
    "    for x in model.pred(inputvec):\n",
    "        c += voc[np.argmax(x)]\n",
    "    return c"
   ]
  },
  {
   "cell_type": "code",
   "execution_count": 36,
   "metadata": {
    "collapsed": false
   },
   "outputs": [],
   "source": [
    "mat = np.load(\"matrix.npy\")\n",
    "lens = np.load(\"lens.npy\")"
   ]
  },
  {
   "cell_type": "code",
   "execution_count": null,
   "metadata": {
    "collapsed": true
   },
   "outputs": [],
   "source": [
    "model = LSTM(len(voc), 50, len(voc))"
   ]
  },
  {
   "cell_type": "code",
   "execution_count": 67,
   "metadata": {
    "collapsed": false
   },
   "outputs": [
    {
     "name": "stdout",
     "output_type": "stream",
     "text": [
      "epoch 0 error: 1178.73945314\n",
      "epoch 1 error: 828.035959486\n",
      "epoch 2 error: 651.734214276\n",
      "epoch 3 error: 507.594759025\n",
      "epoch 4 error: 407.227064786\n"
     ]
    }
   ],
   "source": [
    "len_train = 10000\n",
    "\n",
    "nb_epochs = 5\n",
    "#stupid and naive sgd\n",
    "for x in range(nb_epochs):\n",
    "    error = 0.\n",
    "    for j in range(len_train):  \n",
    "        index = np.random.randint(0, len_train)\n",
    "        train_example = get_one_hot_mat(index, mat, lens)\n",
    "        train_cost = model.train(train_example, train_example)\n",
    "        error += train_cost\n",
    "    #if x%10==0:\n",
    "    print \"epoch \"+str(x)+ \" error: \"+str(error)\n"
   ]
  },
  {
   "cell_type": "code",
   "execution_count": 18,
   "metadata": {
    "collapsed": false
   },
   "outputs": [],
   "source": [
    "[dx, dy] = make_dataset(matrix=matrix, pad=corpus.word2idx['END'])"
   ]
  },
  {
   "cell_type": "code",
   "execution_count": 6,
   "metadata": {
    "collapsed": false
   },
   "outputs": [],
   "source": [
    "dic = corpus.idx2word"
   ]
  },
  {
   "cell_type": "code",
   "execution_count": 69,
   "metadata": {
    "collapsed": false
   },
   "outputs": [
    {
     "name": "stdout",
     "output_type": "stream",
     "text": [
      "(13, 45) (10, 45)\n"
     ]
    }
   ],
   "source": [
    "x = get_one_hot_mat(6, mat, lens)\n",
    "print x.shape, encode(\"i am very\").shape"
   ]
  },
  {
   "cell_type": "code",
   "execution_count": 76,
   "metadata": {
    "collapsed": false
   },
   "outputs": [
    {
     "data": {
      "text/plain": [
       "'*here is the %'"
      ]
     },
     "execution_count": 76,
     "metadata": {},
     "output_type": "execute_result"
    }
   ],
   "source": [
    "pred(model, encode(\"where is the \"))"
   ]
  },
  {
   "cell_type": "code",
   "execution_count": 50,
   "metadata": {
    "collapsed": false
   },
   "outputs": [
    {
     "data": {
      "text/plain": [
       "array([[0, 0, 0, 0, 0, 0, 0, 0, 0, 0, 1, 0, 0, 0, 0, 0, 0, 0, 0, 0, 0, 0,\n",
       "        0, 0, 0, 0, 0, 0, 0, 0, 0, 0, 0, 0, 0, 0, 0, 0, 0, 0, 0, 0, 0, 0, 0],\n",
       "       [0, 0, 0, 0, 0, 0, 0, 0, 0, 0, 0, 0, 0, 0, 0, 0, 0, 0, 0, 0, 0, 0,\n",
       "        0, 0, 0, 0, 0, 0, 0, 0, 0, 0, 0, 0, 0, 0, 0, 0, 0, 1, 0, 0, 0, 0, 0],\n",
       "       [0, 0, 1, 0, 0, 0, 0, 0, 0, 0, 0, 0, 0, 0, 0, 0, 0, 0, 0, 0, 0, 0,\n",
       "        0, 0, 0, 0, 0, 0, 0, 0, 0, 0, 0, 0, 0, 0, 0, 0, 0, 0, 0, 0, 0, 0, 0],\n",
       "       [0, 0, 0, 0, 0, 0, 0, 0, 0, 0, 0, 0, 0, 0, 1, 0, 0, 0, 0, 0, 0, 0,\n",
       "        0, 0, 0, 0, 0, 0, 0, 0, 0, 0, 0, 0, 0, 0, 0, 0, 0, 0, 0, 0, 0, 0, 0],\n",
       "       [0, 0, 0, 0, 0, 0, 0, 0, 0, 0, 0, 0, 0, 0, 0, 0, 0, 0, 0, 0, 0, 0,\n",
       "        0, 0, 0, 0, 0, 0, 0, 0, 0, 0, 0, 0, 0, 0, 0, 0, 0, 1, 0, 0, 0, 0, 0],\n",
       "       [0, 0, 0, 0, 0, 0, 0, 0, 0, 0, 0, 0, 0, 0, 0, 0, 0, 0, 0, 0, 0, 0,\n",
       "        0, 1, 0, 0, 0, 0, 0, 0, 0, 0, 0, 0, 0, 0, 0, 0, 0, 0, 0, 0, 0, 0, 0],\n",
       "       [0, 0, 0, 0, 0, 0, 1, 0, 0, 0, 0, 0, 0, 0, 0, 0, 0, 0, 0, 0, 0, 0,\n",
       "        0, 0, 0, 0, 0, 0, 0, 0, 0, 0, 0, 0, 0, 0, 0, 0, 0, 0, 0, 0, 0, 0, 0],\n",
       "       [0, 0, 0, 0, 0, 0, 0, 0, 0, 0, 0, 0, 0, 0, 0, 0, 0, 0, 0, 1, 0, 0,\n",
       "        0, 0, 0, 0, 0, 0, 0, 0, 0, 0, 0, 0, 0, 0, 0, 0, 0, 0, 0, 0, 0, 0, 0],\n",
       "       [0, 0, 0, 0, 0, 0, 0, 0, 0, 0, 0, 0, 0, 0, 0, 0, 0, 0, 0, 0, 0, 0,\n",
       "        0, 0, 0, 0, 1, 0, 0, 0, 0, 0, 0, 0, 0, 0, 0, 0, 0, 0, 0, 0, 0, 0, 0],\n",
       "       [1, 0, 0, 0, 0, 0, 0, 0, 0, 0, 0, 0, 0, 0, 0, 0, 0, 0, 0, 0, 0, 0,\n",
       "        0, 0, 0, 0, 0, 0, 0, 0, 0, 0, 0, 0, 0, 0, 0, 0, 0, 0, 0, 0, 0, 0, 0]], dtype=int32)"
      ]
     },
     "execution_count": 50,
     "metadata": {},
     "output_type": "execute_result"
    }
   ],
   "source": []
  },
  {
   "cell_type": "code",
   "execution_count": null,
   "metadata": {
    "collapsed": true
   },
   "outputs": [],
   "source": []
  }
 ],
 "metadata": {
  "kernelspec": {
   "display_name": "Python 2",
   "language": "python",
   "name": "python2"
  },
  "language_info": {
   "codemirror_mode": {
    "name": "ipython",
    "version": 2
   },
   "file_extension": ".py",
   "mimetype": "text/x-python",
   "name": "python",
   "nbconvert_exporter": "python",
   "pygments_lexer": "ipython2",
   "version": "2.7.6"
  }
 },
 "nbformat": 4,
 "nbformat_minor": 0
}
