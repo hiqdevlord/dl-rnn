{
 "metadata": {
  "name": "",
  "signature": "sha256:ee35b8bca5ec95b870c73aff03a081c9b999f82163c86170ef73a77049905102"
 },
 "nbformat": 3,
 "nbformat_minor": 0,
 "worksheets": [
  {
   "cells": [
    {
     "cell_type": "markdown",
     "metadata": {},
     "source": [
      "# For-loops with theano or confrontational therapy for `theano.scan`-phobia\n",
      "\n",
      "In this notebook, we will gently approach the function `theano.scan` from known concepts in python. `theano.scan` is a very general metafunction that permits the evaluation of loops fully within a computational graph. This implies that gradients can be automatically calculated from the resulting expressions. `theano.scan` has many arguments and is quite formidable at first sight. Conveniently, `Theano` provides specializations of this function, such as `map, reduce, foldl, foldr` that are easier to grasp.\n",
      "\n",
      "We will start by introducing some functional programming concepts in pure python. Then we explore the theano equivalents. After this we will be equipped to tackle `theano.scan` in its full generality."
     ]
    },
    {
     "cell_type": "code",
     "collapsed": false,
     "input": [
      "%matplotlib inline\n",
      "import theano\n",
      "import theano.tensor as T\n",
      "import numpy as np\n",
      "import matplotlib.pyplot as plt\n",
      "\n",
      "theano.config.floatX = 'float32'\n",
      "theano.config.optimizer='fast_compile'"
     ],
     "language": "python",
     "metadata": {},
     "outputs": [],
     "prompt_number": 1
    },
    {
     "cell_type": "markdown",
     "metadata": {},
     "source": [
      "### Micro-reminder of functional programming keywords\n",
      "We begin by recalling what `map` does: It applies a given function to all elements of an iterable sequence. We can use it, for example, to lift a sequence of integers to their squares."
     ]
    },
    {
     "cell_type": "code",
     "collapsed": false,
     "input": [
      "def square(x):\n",
      "    return x ** 2\n",
      "map(square, np.arange(10))"
     ],
     "language": "python",
     "metadata": {},
     "outputs": [
      {
       "metadata": {},
       "output_type": "pyout",
       "prompt_number": 2,
       "text": [
        "[0, 1, 4, 9, 16, 25, 36, 49, 64, 81]"
       ]
      }
     ],
     "prompt_number": 2
    },
    {
     "cell_type": "markdown",
     "metadata": {},
     "source": [
      "Relatedly, the function `reduce` accumulates (or 'folds') a sequence by iterative application of a binary function. The endpoint operation is done with a neutral element or the endpoint of the list. For instance, we can add up a sequence of numbers"
     ]
    },
    {
     "cell_type": "code",
     "collapsed": false,
     "input": [
      "def add(a, b):\n",
      "    return a + b\n",
      "reduce(add, np.arange(10), 0)"
     ],
     "language": "python",
     "metadata": {},
     "outputs": [
      {
       "metadata": {},
       "output_type": "pyout",
       "prompt_number": 3,
       "text": [
        "45"
       ]
      }
     ],
     "prompt_number": 3
    },
    {
     "cell_type": "markdown",
     "metadata": {},
     "source": [
      "We can also apply it after modifying the sequence with a call to `map`, giving rise to an instance of the widely employed 'map-reduce' framework:"
     ]
    },
    {
     "cell_type": "code",
     "collapsed": false,
     "input": [
      "reduce(add, map(square, np.arange(10)), 0)"
     ],
     "language": "python",
     "metadata": {},
     "outputs": [
      {
       "metadata": {},
       "output_type": "pyout",
       "prompt_number": 4,
       "text": [
        "285"
       ]
      }
     ],
     "prompt_number": 4
    },
    {
     "cell_type": "markdown",
     "metadata": {},
     "source": [
      "Make a verbose form of `add` called `verbose_add`, which prints its arguments when it is called. Map a function that takes a sequence element and returns a singleton list (`lambda x: [x]`) to a sequence of integers and reduce it using `verbose_add`. Try specifying different neutral elements or leaving them out."
     ]
    },
    {
     "cell_type": "code",
     "collapsed": false,
     "input": [
      "def verbose_add(a, b):  # to be removed\n",
      "    print \"a={}, b={}\".format(str(a), str(b))\n",
      "    return a + b\n",
      "reduce(verbose_add, map(lambda x: [x], np.arange(10)), [100])"
     ],
     "language": "python",
     "metadata": {},
     "outputs": [
      {
       "output_type": "stream",
       "stream": "stdout",
       "text": [
        "a=[100], b=[0]\n",
        "a=[100, 0], b=[1]\n",
        "a=[100, 0, 1], b=[2]\n",
        "a=[100, 0, 1, 2], b=[3]\n",
        "a=[100, 0, 1, 2, 3], b=[4]\n",
        "a=[100, 0, 1, 2, 3, 4], b=[5]\n",
        "a=[100, 0, 1, 2, 3, 4, 5], b=[6]\n",
        "a=[100, 0, 1, 2, 3, 4, 5, 6], b=[7]\n",
        "a=[100, 0, 1, 2, 3, 4, 5, 6, 7], b=[8]\n",
        "a=[100, 0, 1, 2, 3, 4, 5, 6, 7, 8], b=[9]\n"
       ]
      },
      {
       "metadata": {},
       "output_type": "pyout",
       "prompt_number": 5,
       "text": [
        "[100, 0, 1, 2, 3, 4, 5, 6, 7, 8, 9]"
       ]
      }
     ],
     "prompt_number": 5
    },
    {
     "cell_type": "markdown",
     "metadata": {},
     "source": [
      "Note that `map` can actually take multiple sequences as input"
     ]
    },
    {
     "cell_type": "code",
     "collapsed": false,
     "input": [
      "map(verbose_add, np.arange(10), np.arange(100, 110))"
     ],
     "language": "python",
     "metadata": {},
     "outputs": [
      {
       "output_type": "stream",
       "stream": "stdout",
       "text": [
        "a=0, b=100\n",
        "a=1, b=101\n",
        "a=2, b=102\n",
        "a=3, b=103\n",
        "a=4, b=104\n",
        "a=5, b=105\n",
        "a=6, b=106\n",
        "a=7, b=107\n",
        "a=8, b=108\n",
        "a=9, b=109\n"
       ]
      },
      {
       "metadata": {},
       "output_type": "pyout",
       "prompt_number": 6,
       "text": [
        "[100, 102, 104, 106, 108, 110, 112, 114, 116, 118]"
       ]
      }
     ],
     "prompt_number": 6
    },
    {
     "cell_type": "markdown",
     "metadata": {},
     "source": [
      "### Some functions with sequence output\n",
      "We will now work with functions that could be called 'reduce with history', but that is a cumbersome name.\n",
      "\n",
      "In the following you will be writing a lot of functions that are similar to each other, but with increasing complexity. Feel free to copy and paste from your previous work when appropriate.\n",
      "\n",
      "Next up is a function that cumulatively adds all integers up to a certain point, starting from 0"
     ]
    },
    {
     "cell_type": "code",
     "collapsed": false,
     "input": [
      "def add_ints(n):\n",
      "    output = [0]\n",
      "    for i in range(1, n):\n",
      "        output.append(output[-1] + i)\n",
      "    return output\n",
      "\n",
      "add_ints(10)"
     ],
     "language": "python",
     "metadata": {},
     "outputs": [
      {
       "metadata": {},
       "output_type": "pyout",
       "prompt_number": 7,
       "text": [
        "[0, 1, 3, 6, 10, 15, 21, 28, 36, 45]"
       ]
      }
     ],
     "prompt_number": 7
    },
    {
     "cell_type": "markdown",
     "metadata": {},
     "source": [
      "Write a function that adds up the first n squares cumulatively and returns all of them."
     ]
    },
    {
     "cell_type": "code",
     "collapsed": false,
     "input": [
      "def add_squares(n):  # to be removed\n",
      "    output = [0]\n",
      "    for i in range(1, n):\n",
      "        output.append(output[-1] + i ** 2)\n",
      "    return output\n",
      "\n",
      "add_squares(10)"
     ],
     "language": "python",
     "metadata": {},
     "outputs": [
      {
       "metadata": {},
       "output_type": "pyout",
       "prompt_number": 8,
       "text": [
        "[0, 1, 5, 14, 30, 55, 91, 140, 204, 285]"
       ]
      }
     ],
     "prompt_number": 8
    },
    {
     "cell_type": "markdown",
     "metadata": {},
     "source": [
      "Write a function that generates n elements of the Fibonacci sequence, using the recurrent formula $x_{n+2} = x_{n + 1} + x_n$,with $x_1 = 1$ and $x_0 = 0$."
     ]
    },
    {
     "cell_type": "code",
     "collapsed": false,
     "input": [
      "def fibonacci(n):  # to be removed\n",
      "    output = [0, 1]\n",
      "    for _ in range(2, n):\n",
      "        output.append(output[-1] + output[-2])\n",
      "    return output[:n]\n",
      "\n",
      "fibonacci(10)"
     ],
     "language": "python",
     "metadata": {},
     "outputs": [
      {
       "metadata": {},
       "output_type": "pyout",
       "prompt_number": 9,
       "text": [
        "[0, 1, 1, 2, 3, 5, 8, 13, 21, 34]"
       ]
      }
     ],
     "prompt_number": 9
    },
    {
     "cell_type": "markdown",
     "metadata": {},
     "source": [
      "Now write a version of `add_squares` that takes an arbitrary sequence as input"
     ]
    },
    {
     "cell_type": "code",
     "collapsed": false,
     "input": [
      "def add_squares(sequence):  # to be removed\n",
      "    output = [sequence[0] ** 2]\n",
      "    for item in sequence[1:]:\n",
      "        output.append(output[-1] + item ** 2)\n",
      "    return output\n",
      "\n",
      "add_squares(np.arange(12))"
     ],
     "language": "python",
     "metadata": {},
     "outputs": [
      {
       "metadata": {},
       "output_type": "pyout",
       "prompt_number": 10,
       "text": [
        "[0, 1, 5, 14, 30, 55, 91, 140, 204, 285, 385, 506]"
       ]
      }
     ],
     "prompt_number": 10
    },
    {
     "cell_type": "markdown",
     "metadata": {},
     "source": [
      "Take the next generalization step by providing a function that cumulatively combines any given sequence, similar to `reduce` but keeping the history. Then rewrite `add_squares` and `add_ints` using it. Make sure the left-hand argument of the binary function receives the current sequence value and the right hand argument receives the accumulated value. Also provide an argument `starting_point` from which to initiate the recursion but which will not appear in the output."
     ]
    },
    {
     "cell_type": "code",
     "collapsed": false,
     "input": [
      "def accumulate(func, sequence, starting_point):  # to be removed\n",
      "    output = [starting_point]\n",
      "    for element in sequence:\n",
      "        output.append(func(element, output[-1]))\n",
      "    return output[1:]\n",
      "\n",
      "accumulate(verbose_add, np.arange(10), 0)\n",
      "    "
     ],
     "language": "python",
     "metadata": {},
     "outputs": [
      {
       "output_type": "stream",
       "stream": "stdout",
       "text": [
        "a=0, b=0\n",
        "a=1, b=0\n",
        "a=2, b=1\n",
        "a=3, b=3\n",
        "a=4, b=6\n",
        "a=5, b=10\n",
        "a=6, b=15\n",
        "a=7, b=21\n",
        "a=8, b=28\n",
        "a=9, b=36\n"
       ]
      },
      {
       "metadata": {},
       "output_type": "pyout",
       "prompt_number": 11,
       "text": [
        "[0, 1, 3, 6, 10, 15, 21, 28, 36, 45]"
       ]
      }
     ],
     "prompt_number": 11
    },
    {
     "cell_type": "code",
     "collapsed": false,
     "input": [
      "accumulate(lambda a, b: a ** 2 + b, np.arange(10), 0.)"
     ],
     "language": "python",
     "metadata": {},
     "outputs": [
      {
       "metadata": {},
       "output_type": "pyout",
       "prompt_number": 12,
       "text": [
        "[0.0, 1.0, 5.0, 14.0, 30.0, 55.0, 91.0, 140.0, 204.0, 285.0]"
       ]
      }
     ],
     "prompt_number": 12
    },
    {
     "cell_type": "markdown",
     "metadata": {},
     "source": [
      "## The theano versions of `map` and `reduce`\n",
      "The theano versions of `map` and `reduce` work very similarly to their python counterparts, except that all entries can be symbolic. Let us first take a look at the docstrings and then try out some examples"
     ]
    },
    {
     "cell_type": "code",
     "collapsed": false,
     "input": [
      "theano.map?"
     ],
     "language": "python",
     "metadata": {},
     "outputs": [],
     "prompt_number": 13
    },
    {
     "cell_type": "markdown",
     "metadata": {},
     "source": [
      "Note that the function `map` returns `expression, updates`, of which we right now only need `updates`. The following code creates a theano function that squares the first `n` integers."
     ]
    },
    {
     "cell_type": "code",
     "collapsed": false,
     "input": [
      "n = T.iscalar()\n",
      "map_square_expr, updates = theano.map(square, T.arange(n))\n",
      "\n",
      "f_map_square = theano.function([n], map_square_expr)\n",
      "\n",
      "f_map_square(11)"
     ],
     "language": "python",
     "metadata": {},
     "outputs": [
      {
       "output_type": "stream",
       "stream": "stderr",
       "text": [
        "/home/me232320/software/python_pkg/Theano_anaconda/theano/scan_module/scan_perform_ext.py:133: RuntimeWarning: numpy.ndarray size changed, may indicate binary incompatibility\n",
        "  from scan_perform.scan_perform import *\n"
       ]
      },
      {
       "metadata": {},
       "output_type": "pyout",
       "prompt_number": 14,
       "text": [
        "array([  0,   1,   4,   9,  16,  25,  36,  49,  64,  81, 100], dtype=int32)"
       ]
      }
     ],
     "prompt_number": 14
    },
    {
     "cell_type": "markdown",
     "metadata": {},
     "source": [
      "Write a function that maps the function `square` to any input array."
     ]
    },
    {
     "cell_type": "code",
     "collapsed": false,
     "input": [
      "arr = T.fvector()  # to be removed\n",
      "expression, updates = theano.map(square, arr)\n",
      "\n",
      "f_square_arr = theano.function([arr], expression)\n",
      "\n",
      "f_square_arr(2. * np.arange(10).astype(np.float32))"
     ],
     "language": "python",
     "metadata": {},
     "outputs": [
      {
       "metadata": {},
       "output_type": "pyout",
       "prompt_number": 15,
       "text": [
        "array([   0.,    4.,   16.,   36.,   64.,  100.,  144.,  196.,  256.,  324.], dtype=float32)"
       ]
      }
     ],
     "prompt_number": 15
    },
    {
     "cell_type": "markdown",
     "metadata": {},
     "source": [
      "Now, using `theano.map`, write a function that takes two arrays and adds them elementwise. Use the function `add`. Make sure that the function returns what you expect."
     ]
    },
    {
     "cell_type": "code",
     "collapsed": false,
     "input": [
      "arr1 = T.fvector()  # to be removed\n",
      "arr2 = T.fvector()\n",
      "\n",
      "expression, updates = theano.map(add, [arr1, arr2])\n",
      "f_add = theano.function([arr1, arr2], expression)\n",
      "\n",
      "f_add(np.arange(10).astype('float32'), np.arange(100, 110).astype('float32'))"
     ],
     "language": "python",
     "metadata": {},
     "outputs": [
      {
       "metadata": {},
       "output_type": "pyout",
       "prompt_number": 16,
       "text": [
        "array([ 100.,  102.,  104.,  106.,  108.,  110.,  112.,  114.,  116.,  118.], dtype=float32)"
       ]
      }
     ],
     "prompt_number": 16
    },
    {
     "cell_type": "markdown",
     "metadata": {},
     "source": [
      "Take another look at the docstring of `theano.map` and identify the argument `non_sequences`. This is a list of auxiliary expressions that can be passed to the scan function. While `theano.maps/reduce/scan` sees all expressions outside its arguments, it is preferable to pass any addition expression that will be used via `non_sequences`. We can show this using the example of a polynomial of fixed coefficients whose list of monomials we will generate. "
     ]
    },
    {
     "cell_type": "code",
     "collapsed": false,
     "input": [
      "coefs = T.constant(np.array([1, 4, 6, 4, 1]).astype('float32'))\n",
      "x = T.fscalar()"
     ],
     "language": "python",
     "metadata": {},
     "outputs": [],
     "prompt_number": 17
    },
    {
     "cell_type": "markdown",
     "metadata": {},
     "source": [
      "Using `theano.map` and an appropriate function, create an expression that outputs a list of monomials in the symbolic variable `x` with coefficients from `coefs`."
     ]
    },
    {
     "cell_type": "code",
     "collapsed": false,
     "input": [
      "def generate_monomial(coefficient, counter, xx):\n",
      "    return coefficient * xx ** counter\n",
      "\n",
      "monomial_expr, updates = theano.map(generate_monomial, [coefs, T.arange(coefs.shape[0])], x)\n",
      "\n",
      "f_monomials = theano.function([x], monomial_expr)\n",
      "\n",
      "f_monomials(2.).sum()"
     ],
     "language": "python",
     "metadata": {},
     "outputs": [
      {
       "metadata": {},
       "output_type": "pyout",
       "prompt_number": 18,
       "text": [
        "81.0"
       ]
      }
     ],
     "prompt_number": 18
    },
    {
     "cell_type": "code",
     "collapsed": false,
     "input": [
      "y = T.fscalar()"
     ],
     "language": "python",
     "metadata": {},
     "outputs": [],
     "prompt_number": 19
    },
    {
     "cell_type": "markdown",
     "metadata": {},
     "source": [
      "Now do the same for two variables `x, y` in order to calculate the list of monomials for `(x + y) ** 4`"
     ]
    },
    {
     "cell_type": "code",
     "collapsed": false,
     "input": [
      "def generate_double_monomial(coefficient, counter, xx, yy, n):\n",
      "    return coefficient * xx ** counter * yy ** (n - counter - 1)\n",
      "\n",
      "double_monomial_expr, updates = theano.map(generate_double_monomial, [coefs, T.arange(coefs.shape[0])], [x, y, coefs.shape[0]])\n",
      "\n",
      "f_binomial = theano.function([x, y], double_monomial_expr)\n",
      "f_binomial(1., 2.).sum()"
     ],
     "language": "python",
     "metadata": {},
     "outputs": [
      {
       "metadata": {},
       "output_type": "pyout",
       "prompt_number": 20,
       "text": [
        "81.0"
       ]
      }
     ],
     "prompt_number": 20
    },
    {
     "cell_type": "markdown",
     "metadata": {},
     "source": [
      "We can also take derivatives through these polynomial expressions. Let's try this for the univariate polynomial first"
     ]
    },
    {
     "cell_type": "code",
     "collapsed": false,
     "input": [
      "univar_polynomial_gradient = T.grad(monomial_expr.sum(), wrt=x)\n",
      "\n",
      "f_univar_pol_grad = theano.function([x], univar_polynomial_gradient)\n",
      "\n",
      "f_univar_pol_grad(0.)"
     ],
     "language": "python",
     "metadata": {},
     "outputs": [
      {
       "metadata": {},
       "output_type": "pyout",
       "prompt_number": 21,
       "text": [
        "array(nan)"
       ]
      }
     ],
     "prompt_number": 21
    },
    {
     "cell_type": "markdown",
     "metadata": {},
     "source": [
      "Now do the same for the multivariate polynomial"
     ]
    },
    {
     "cell_type": "code",
     "collapsed": false,
     "input": [
      "multivar_polynomial_gradient = T.grad(double_monomial_expr.sum(), wrt=[x, y])\n",
      "\n",
      "f_univar_pol_grad = theano.function([x, y], multivar_polynomial_gradient)\n",
      "\n",
      "f_univar_pol_grad(0.1, 1.)"
     ],
     "language": "python",
     "metadata": {},
     "outputs": [
      {
       "metadata": {},
       "output_type": "pyout",
       "prompt_number": 22,
       "text": [
        "[array(5.324000021636486), array(5.324000021636486)]"
       ]
      }
     ],
     "prompt_number": 22
    },
    {
     "cell_type": "markdown",
     "metadata": {},
     "source": [
      "Now let's take a look at the docstring of `theano.reduce`."
     ]
    },
    {
     "cell_type": "code",
     "collapsed": false,
     "input": [
      "theano.reduce?"
     ],
     "language": "python",
     "metadata": {},
     "outputs": [],
     "prompt_number": 23
    },
    {
     "cell_type": "markdown",
     "metadata": {},
     "source": [
      "As you can see, it takes 3 compulsory arguments - the function `fn`, a list of `sequences` and `outputs_info`. It will become extremely important to understand the role of the latter. It has several functions, the first of which we shall concentrate on now: Providing initial values (or the 'neutral element' for the reduce operation).\n",
      "\n",
      "We begin by using `theano.reduce` to sum a sequence of integers."
     ]
    },
    {
     "cell_type": "code",
     "collapsed": false,
     "input": [
      "expr_int_sum, updates = theano.reduce(add, T.arange(n), np.int32(0))\n",
      "\n",
      "f_int_sum = theano.function([n], expr_int_sum)\n",
      "f_int_sum(10)"
     ],
     "language": "python",
     "metadata": {},
     "outputs": [
      {
       "metadata": {},
       "output_type": "pyout",
       "prompt_number": 24,
       "text": [
        "array(45, dtype=int32)"
       ]
      }
     ],
     "prompt_number": 24
    },
    {
     "cell_type": "markdown",
     "metadata": {},
     "source": [
      "Note that it is highly important to get the data types right - this implies being aware of potential implicit type casts within functions.\n",
      "\n",
      "Now write a function that adds all squares of the first `n` integers."
     ]
    },
    {
     "cell_type": "code",
     "collapsed": false,
     "input": [
      "def add_square_a_to_b(a, b):  # to be removed\n",
      "    return a ** 2 + b\n",
      "\n",
      "expr_square_sum, updates = theano.reduce(add_square_a_to_b, T.arange(n), np.cast['int32'](0))\n",
      "f_square_sum = theano.function([n], expr_square_sum)\n",
      "\n",
      "f_square_sum(10)"
     ],
     "language": "python",
     "metadata": {},
     "outputs": [
      {
       "metadata": {},
       "output_type": "pyout",
       "prompt_number": 25,
       "text": [
        "array(285, dtype=int32)"
       ]
      }
     ],
     "prompt_number": 25
    },
    {
     "cell_type": "markdown",
     "metadata": {},
     "source": [
      "Now we would like to reduce a function with multiple outputs. Find out how to employ reduce to return the sum of the first `n` integers *as well as* the first `n` squares"
     ]
    },
    {
     "cell_type": "code",
     "collapsed": false,
     "input": [
      "def add_squares_and_ints(i, cur_int_sum, cur_square_sum):   # to be removed\n",
      "    return i + cur_int_sum, i ** 2 + cur_square_sum\n",
      "\n",
      "both_expressions, updates = theano.reduce(add_squares_and_ints, T.arange(n), [np.cast['int32'](0)] * 2)\n",
      "f_both = theano.function([n], both_expressions)\n",
      "\n",
      "f_both(10)"
     ],
     "language": "python",
     "metadata": {},
     "outputs": [
      {
       "metadata": {},
       "output_type": "pyout",
       "prompt_number": 26,
       "text": [
        "[array(45, dtype=int32), array(285, dtype=int32)]"
       ]
      }
     ],
     "prompt_number": 26
    },
    {
     "cell_type": "markdown",
     "metadata": {},
     "source": [
      "Now look at the following function"
     ]
    },
    {
     "cell_type": "code",
     "collapsed": false,
     "input": [
      "def return_args_and_accumulate_squares_and_ints(i, cur_int_sum, cur_square_sum):\n",
      "    return i, cur_int_sum, cur_square_sum, i + cur_int_sum, i ** 2 + cur_square_sum"
     ],
     "language": "python",
     "metadata": {},
     "outputs": [],
     "prompt_number": 27
    },
    {
     "cell_type": "markdown",
     "metadata": {},
     "source": [
      "Use this function in `theano.reduce` to obtain exactly the same result as before. Note that the first three outputs of the function should be considered as useless and should be ignored. To do this, you need to modify `outputs_info` and place `None` at every place where you are not interested in feeding the output of the function back.\n",
      "\n",
      "We have just discovered the second meaning/use of `outputs_info`: Aside from containing initial values, it also regulates which values of the function are fed back. Thinking about this a little, the two concepts go hand in hand: Function outputs that are fed back into function require arguments to take those values. These arguments need to be fed with initial values at the beginning of the loop.\n",
      "\n",
      "Note that the final output will also contain the final outputs of the function that were not fed back."
     ]
    },
    {
     "cell_type": "code",
     "collapsed": false,
     "input": [
      "# to be deleted\n",
      "both_expressions, updates = theano.reduce(return_args_and_accumulate_squares_and_ints, T.arange(n), [None] * 3 + [np.cast['int32'](0)] * 2)\n",
      "f_both = theano.function([n], both_expressions)\n",
      "\n",
      "f_both(10)"
     ],
     "language": "python",
     "metadata": {},
     "outputs": [
      {
       "metadata": {},
       "output_type": "pyout",
       "prompt_number": 28,
       "text": [
        "[array(9, dtype=int32),\n",
        " array(36, dtype=int32),\n",
        " array(204, dtype=int32),\n",
        " array(45, dtype=int32),\n",
        " array(285, dtype=int32)]"
       ]
      }
     ],
     "prompt_number": 28
    },
    {
     "cell_type": "markdown",
     "metadata": {},
     "source": [
      "Let's generalize this power thing a little awkwardly. Here is a list of powers"
     ]
    },
    {
     "cell_type": "code",
     "collapsed": false,
     "input": [
      "powers = [0, 1, 2, 3]"
     ],
     "language": "python",
     "metadata": {},
     "outputs": [],
     "prompt_number": 29
    },
    {
     "cell_type": "markdown",
     "metadata": {},
     "source": [
      "Use these powers as `non_sequences` and write a reduce function that gives back the accumulated sums of all these powers. Hint: use `*args` (never do that in practice) and figure out where which input arguments are placed."
     ]
    },
    {
     "cell_type": "code",
     "collapsed": false,
     "input": [
      "def accumulate_all_powers(i, *args):  # to be deleted\n",
      "    # half of args is current values, the other half is non_sequences\n",
      "    current_values = args[:len(args) / 2]\n",
      "    powers = args[len(args) / 2:]\n",
      "    \n",
      "    output = [i ** power + cur_val for power, cur_val in zip(powers, current_values)]\n",
      "    return output\n",
      "\n",
      "all_expressions, updates = theano.reduce(accumulate_all_powers, T.arange(n), [np.int32(0)] * len(powers), powers)\n",
      "\n",
      "f_all_powers = theano.function([n], all_expressions)\n",
      "\n",
      "f_all_powers(10)\n"
     ],
     "language": "python",
     "metadata": {},
     "outputs": [
      {
       "metadata": {},
       "output_type": "pyout",
       "prompt_number": 30,
       "text": [
        "[array(10, dtype=int32),\n",
        " array(45, dtype=int32),\n",
        " array(285, dtype=int32),\n",
        " array(2025, dtype=int32)]"
       ]
      }
     ],
     "prompt_number": 30
    },
    {
     "cell_type": "markdown",
     "metadata": {},
     "source": [
      "Figure out a way to do this less awkwardly by vectorizing the power operation. Now the powers can even be symbolic:"
     ]
    },
    {
     "cell_type": "code",
     "collapsed": false,
     "input": [
      "powvec = T.ivector()"
     ],
     "language": "python",
     "metadata": {},
     "outputs": [],
     "prompt_number": 31
    },
    {
     "cell_type": "markdown",
     "metadata": {},
     "source": [
      "Write a function that gives the same output that is much less awkward"
     ]
    },
    {
     "cell_type": "code",
     "collapsed": false,
     "input": [
      "def accumulate_powers(i, cur_result, powers):  # to be deleted\n",
      "    return cur_result + i ** powers\n",
      "\n",
      "acc_powers, updates = theano.reduce(accumulate_powers, T.arange(n), T.zeros_like(powvec, dtype='int32'), powvec)\n",
      "\n",
      "f_acc_powers = theano.function([n, powvec], acc_powers)\n",
      "f_acc_powers(10, np.array([0, 1, 2, 3, 5]).astype('int32'))"
     ],
     "language": "python",
     "metadata": {},
     "outputs": [
      {
       "metadata": {},
       "output_type": "pyout",
       "prompt_number": 32,
       "text": [
        "array([    10,     45,    285,   2025, 120825], dtype=int32)"
       ]
      }
     ],
     "prompt_number": 32
    },
    {
     "cell_type": "markdown",
     "metadata": {},
     "source": [
      "Now recall the function that outputs a list of monomials from above. Reduce it to return a polynomial."
     ]
    },
    {
     "cell_type": "code",
     "collapsed": false,
     "input": [
      "test, updates = theano.reduce(add, monomial_expr, outputs_info=np.float64(0))  # to be removed\n",
      "\n",
      "f_poly = theano.function([x], test)\n",
      "f_poly(3.)"
     ],
     "language": "python",
     "metadata": {},
     "outputs": [
      {
       "metadata": {},
       "output_type": "pyout",
       "prompt_number": 33,
       "text": [
        "array(256.0)"
       ]
      }
     ],
     "prompt_number": 33
    },
    {
     "cell_type": "markdown",
     "metadata": {},
     "source": [
      "The same effect can be obtained by solely using reduce. Using a function which feeds back and accumulates `x` raised to a power as well as the polynomial expression, this can be done."
     ]
    },
    {
     "cell_type": "code",
     "collapsed": false,
     "input": [
      "def accumulate_polynomial(coef, cur_polynomial, cur_power, xx):  # to be removed\n",
      "    return cur_polynomial + coef * cur_power, cur_power * xx\n",
      "\n",
      "(r_poly_expr, _), updates = theano.reduce(accumulate_polynomial, coefs, [np.float32(0.), np.float32(1.)], x)\n",
      "\n",
      "f_r_poly = theano.function([x], r_poly_expr)\n",
      "f_r_poly(2.)"
     ],
     "language": "python",
     "metadata": {},
     "outputs": [
      {
       "metadata": {},
       "output_type": "pyout",
       "prompt_number": 34,
       "text": [
        "array(81.0, dtype=float32)"
       ]
      }
     ],
     "prompt_number": 34
    },
    {
     "cell_type": "markdown",
     "metadata": {},
     "source": [
      "What about that Fibonacci sequence from the beginning? Can we calculate it using `theano.reduce`? Well, yes, we can, but it's **CHEATING**. Apart from simply exploiting the closed form formula, we can emulate looking back two steps into history. This is, however, a house-keeping trick and not necessarily the way we want to solve this problem in the end."
     ]
    },
    {
     "cell_type": "code",
     "collapsed": false,
     "input": [
      "def fib_acc(i, old_value, older_value):\n",
      "    return old_value + older_value, old_value\n",
      "\n",
      "(fib_expr, _), updates = theano.reduce(fib_acc, sequences=T.arange(n), outputs_info=[np.int32(1), np.int32(0)])\n",
      "\n",
      "f_fib = theano.function([n], fib_expr)\n",
      "f_fib(6)"
     ],
     "language": "python",
     "metadata": {},
     "outputs": [
      {
       "metadata": {},
       "output_type": "pyout",
       "prompt_number": 35,
       "text": [
        "array(13, dtype=int32)"
       ]
      }
     ],
     "prompt_number": 35
    },
    {
     "cell_type": "markdown",
     "metadata": {},
     "source": [
      "Can we output an accumulative sequence, as does our function `accumulate` from above? Well, 'unfortunately', yes, we can, but it's **CHEATING**, too! Take as an example accumulating the squares of a sequence:"
     ]
    },
    {
     "cell_type": "code",
     "collapsed": false,
     "input": [
      "seq = T.fvector()\n",
      "\n",
      "def acc_squares(u, i, acc_array):\n",
      "    return T.inc_subtensor(acc_array[i:], u)\n",
      "\n",
      "acc_expr, updates = theano.reduce(acc_squares, [seq, T.arange(seq.shape[0])], T.zeros_like(seq))\n",
      "\n",
      "f_acc_expr = theano.function([seq], acc_expr)\n",
      "\n",
      "f_acc_expr(np.arange(10.).astype('float32'))"
     ],
     "language": "python",
     "metadata": {},
     "outputs": [
      {
       "metadata": {},
       "output_type": "pyout",
       "prompt_number": 36,
       "text": [
        "array([  0.,   1.,   3.,   6.,  10.,  15.,  21.,  28.,  36.,  45.], dtype=float32)"
       ]
      }
     ],
     "prompt_number": 36
    },
    {
     "cell_type": "markdown",
     "metadata": {},
     "source": [
      "You may ask: Why exactly is this cheating? The correct answer is that `theano.reduce` was not made for these settings and will be inefficient if misused. Especially the last example shows this: There is no need to increment a large part of a tensor at each iteration in order to achieve what is asked.\n",
      "\n",
      "Hence why we shall now move on to the most general of theano looping functions: `theano.scan`\n",
      "\n",
      "# `theano.scan`"
     ]
    },
    {
     "cell_type": "code",
     "collapsed": false,
     "input": [],
     "language": "python",
     "metadata": {},
     "outputs": [],
     "prompt_number": 36
    }
   ],
   "metadata": {}
  }
 ]
}