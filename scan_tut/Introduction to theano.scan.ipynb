{
 "cells": [
  {
   "cell_type": "markdown",
   "metadata": {},
   "source": [
    "# Intro to theano.scan\n",
    "In order to implement recurrent networks, we will need to be able to apply certain operations repeatedly. This can be handled by a for loop generating a theano expression, but if we do not know in advance how long the loop will be, this is not possible. In these situations we can use theano.scan to create these loops."
   ]
  },
  {
   "cell_type": "code",
   "execution_count": 27,
   "metadata": {
    "collapsed": true
   },
   "outputs": [],
   "source": [
    "# imports we will need\n",
    "import numpy as np\n",
    "import theano\n",
    "import theano.tensor as T"
   ]
  },
  {
   "cell_type": "markdown",
   "metadata": {},
   "source": [
    "## Some simple examples\n",
    "We begin by some very simple examples that should be coded as functions implementing for-loops"
   ]
  },
  {
   "cell_type": "markdown",
   "metadata": {},
   "source": [
    "### Cumulative sum of integers\n",
    "Write a function that returns the sum of the first `n` integers. Add a keyword `return_full_sequence=False`, which, if set to `True`, returns the full calculation sequence."
   ]
  },
  {
   "cell_type": "code",
   "execution_count": 8,
   "metadata": {
    "collapsed": true
   },
   "outputs": [],
   "source": [
    "def cumulative_sum_int(n, return_full_sequence=False):\n",
    "    result = 0\n",
    "    if return_full_sequence:\n",
    "        seq = []\n",
    "    for i in range(1, n + 1):\n",
    "        result += i\n",
    "        if return_full_sequence:\n",
    "            seq.append(result)\n",
    "    if return_full_sequence:\n",
    "        return seq\n",
    "    return result"
   ]
  },
  {
   "cell_type": "code",
   "execution_count": 3,
   "metadata": {
    "collapsed": false
   },
   "outputs": [
    {
     "data": {
      "text/plain": [
       "[1, 3, 6, 10, 15, 21, 28, 36, 45]"
      ]
     },
     "execution_count": 3,
     "metadata": {},
     "output_type": "execute_result"
    }
   ],
   "source": [
    "cumulative_sum_int(9, return_full_sequence=True)"
   ]
  },
  {
   "cell_type": "code",
   "execution_count": 9,
   "metadata": {
    "collapsed": false
   },
   "outputs": [
    {
     "data": {
      "text/plain": [
       "55"
      ]
     },
     "execution_count": 9,
     "metadata": {},
     "output_type": "execute_result"
    }
   ],
   "source": [
    "cumulative_sum_int(10, return_full_sequence=False)"
   ]
  },
  {
   "cell_type": "markdown",
   "metadata": {},
   "source": [
    "### Cumulative sum of squares\n",
    "Do the same thing for a cumulative sum of squares (you can copy and paste the function to write the cumulative sum of integers)"
   ]
  },
  {
   "cell_type": "code",
   "execution_count": 6,
   "metadata": {
    "collapsed": true
   },
   "outputs": [],
   "source": [
    "def cumulative_sum_squares(n, return_full_sequence=False):\n",
    "    result = 0\n",
    "    if return_full_sequence:\n",
    "        seq = []\n",
    "    for i in range(1, n + 1):\n",
    "        result += i ** 2\n",
    "        if return_full_sequence:\n",
    "            seq.append(result)\n",
    "    if return_full_sequence:\n",
    "        return seq\n",
    "    return result"
   ]
  },
  {
   "cell_type": "code",
   "execution_count": 10,
   "metadata": {
    "collapsed": false
   },
   "outputs": [
    {
     "data": {
      "text/plain": [
       "[1, 5, 14, 30, 55, 91, 140, 204, 285]"
      ]
     },
     "execution_count": 10,
     "metadata": {},
     "output_type": "execute_result"
    }
   ],
   "source": [
    "cumulative_sum_squares(9, return_full_sequence=True)"
   ]
  },
  {
   "cell_type": "code",
   "execution_count": 12,
   "metadata": {
    "collapsed": false
   },
   "outputs": [
    {
     "data": {
      "text/plain": [
       "385"
      ]
     },
     "execution_count": 12,
     "metadata": {},
     "output_type": "execute_result"
    }
   ],
   "source": [
    "cumulative_sum_squares(10, return_full_sequence=False)"
   ]
  },
  {
   "cell_type": "markdown",
   "metadata": {},
   "source": [
    "### Fibonacci series\n",
    "Now write a function calucating the nth fibonacci number, the zeroth and first being 0 and 1"
   ]
  },
  {
   "cell_type": "code",
   "execution_count": 15,
   "metadata": {
    "collapsed": true
   },
   "outputs": [],
   "source": [
    "def fib(n, return_full_sequence=False):\n",
    "    if n == 0:\n",
    "        if return_full_sequence:\n",
    "            return [0]\n",
    "        return 0\n",
    "    if n == 1:\n",
    "        if return_full_sequence:\n",
    "            return [0, 1]\n",
    "        return 1\n",
    "    pre1, pre2 = 1, 0\n",
    "    if return_full_sequence:\n",
    "        seq = [0, 1]\n",
    "    for _ in range(2, n):\n",
    "        pre1, pre2 = pre1 + pre2, pre1\n",
    "        if return_full_sequence:\n",
    "            seq.append(pre1)\n",
    "    if return_full_sequence:\n",
    "        return seq\n",
    "    return pre1\n",
    "    \n",
    "        "
   ]
  },
  {
   "cell_type": "code",
   "execution_count": 16,
   "metadata": {
    "collapsed": false
   },
   "outputs": [
    {
     "data": {
      "text/plain": [
       "[0, 1, 1, 2, 3, 5, 8, 13, 21, 34]"
      ]
     },
     "execution_count": 16,
     "metadata": {},
     "output_type": "execute_result"
    }
   ],
   "source": [
    "fib(10, return_full_sequence=True)"
   ]
  },
  {
   "cell_type": "code",
   "execution_count": 17,
   "metadata": {
    "collapsed": false
   },
   "outputs": [
    {
     "data": {
      "text/plain": [
       "55"
      ]
     },
     "execution_count": 17,
     "metadata": {},
     "output_type": "execute_result"
    }
   ],
   "source": [
    "fib(11)"
   ]
  },
  {
   "cell_type": "markdown",
   "metadata": {},
   "source": [
    "## Generalizing a little\n",
    "All of the above can be written as simple operations done in a loop.\n",
    "Code a function that can take a binary (two inputs) function of `new_value` and `current_value` and returns the increment. `new_value` should be read from a sequence. Add an argument `initial_value` to be able to commence the iterations. Output the full sequence."
   ]
  },
  {
   "cell_type": "code",
   "execution_count": 29,
   "metadata": {
    "collapsed": true
   },
   "outputs": [],
   "source": [
    "def incrementer(func, sequence, initial_value):\n",
    "    results = [initial_value]\n",
    "    for item in sequence:\n",
    "        results.append(func(item, results[-1]))\n",
    "    return results[1:]\n",
    "    "
   ]
  },
  {
   "cell_type": "markdown",
   "metadata": {},
   "source": [
    "Write a function that adds two values in order to re-create the first example"
   ]
  },
  {
   "cell_type": "code",
   "execution_count": 31,
   "metadata": {
    "collapsed": true
   },
   "outputs": [],
   "source": [
    "def f_add(new_item, curr_value):\n",
    "    return new_item + curr_value\n"
   ]
  },
  {
   "cell_type": "markdown",
   "metadata": {},
   "source": [
    "Apply `incrementer` to `f_add` and a sequence of values from 0 to 9 with an initial value of 0"
   ]
  },
  {
   "cell_type": "code",
   "execution_count": 32,
   "metadata": {
    "collapsed": false
   },
   "outputs": [
    {
     "data": {
      "text/plain": [
       "[0, 1, 3, 6, 10, 15, 21, 28, 36, 45]"
      ]
     },
     "execution_count": 32,
     "metadata": {},
     "output_type": "execute_result"
    }
   ],
   "source": [
    "incrementer(f_add, np.arange(10), 0)"
   ]
  },
  {
   "cell_type": "markdown",
   "metadata": {},
   "source": [
    "Now write a `f_add_square` function and apply `incrementer` to it."
   ]
  },
  {
   "cell_type": "code",
   "execution_count": 34,
   "metadata": {
    "collapsed": false
   },
   "outputs": [],
   "source": [
    "def f_add_square(new_item, curr_value):\n",
    "    return new_item ** 2 + curr_value"
   ]
  },
  {
   "cell_type": "code",
   "execution_count": 35,
   "metadata": {
    "collapsed": false
   },
   "outputs": [
    {
     "data": {
      "text/plain": [
       "[0.0, 1.0, 5.0, 14.0, 30.0, 55.0, 91.0, 140.0, 204.0, 285.0]"
      ]
     },
     "execution_count": 35,
     "metadata": {},
     "output_type": "execute_result"
    }
   ],
   "source": [
    "incrementer(f_add_square, np.arange(10), 0.)"
   ]
  },
  {
   "cell_type": "markdown",
   "metadata": {},
   "source": [
    "## Generalizing a little more\n",
    "If you have tried to implement the fibonacci example this way, you will have noticed that "
   ]
  },
  {
   "cell_type": "code",
   "execution_count": null,
   "metadata": {
    "collapsed": true
   },
   "outputs": [],
   "source": []
  }
 ],
 "metadata": {
  "kernelspec": {
   "display_name": "Python 2",
   "language": "python",
   "name": "python2"
  },
  "language_info": {
   "codemirror_mode": {
    "name": "ipython",
    "version": 2
   },
   "file_extension": ".py",
   "mimetype": "text/x-python",
   "name": "python",
   "nbconvert_exporter": "python",
   "pygments_lexer": "ipython2",
   "version": "2.7.6"
  }
 },
 "nbformat": 4,
 "nbformat_minor": 0
}
