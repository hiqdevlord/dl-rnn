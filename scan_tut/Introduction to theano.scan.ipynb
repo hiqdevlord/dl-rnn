{
 "cells": [
  {
   "cell_type": "markdown",
   "metadata": {},
   "source": [
    "# Intro to theano.scan\n",
    "In order to implement recurrent networks, we will need to be able to apply certain operations repeatedly. This can be handled by a for loop generating a theano expression, but if we do not know in advance how long the loop will be, this is not possible. In these situations we can use theano.scan to create these loops."
   ]
  },
  {
   "cell_type": "code",
   "execution_count": 1,
   "metadata": {
    "collapsed": false
   },
   "outputs": [
    {
     "name": "stderr",
     "output_type": "stream",
     "text": [
      "Using gpu device 0: GRID K520\n"
     ]
    }
   ],
   "source": [
    "# imports we will need\n",
    "import numpy as np\n",
    "import theano\n",
    "import theano.tensor as T\n",
    "import numbers"
   ]
  },
  {
   "cell_type": "markdown",
   "metadata": {},
   "source": [
    "## Some simple examples\n",
    "We begin by some very simple examples that should be coded as functions implementing for-loops"
   ]
  },
  {
   "cell_type": "markdown",
   "metadata": {},
   "source": [
    "### Cumulative sum of integers\n",
    "Write a function that returns the sum of the first `n` integers. Add a keyword `return_full_sequence=False`, which, if set to `True`, returns the full calculation sequence."
   ]
  },
  {
   "cell_type": "code",
   "execution_count": 2,
   "metadata": {
    "collapsed": true
   },
   "outputs": [],
   "source": [
    "def cumulative_sum_int(n, return_full_sequence=False):\n",
    "    result = 0\n",
    "    if return_full_sequence:\n",
    "        seq = []\n",
    "    for i in range(1, n + 1):\n",
    "        result += i\n",
    "        if return_full_sequence:\n",
    "            seq.append(result)\n",
    "    if return_full_sequence:\n",
    "        return seq\n",
    "    return result"
   ]
  },
  {
   "cell_type": "code",
   "execution_count": 3,
   "metadata": {
    "collapsed": false
   },
   "outputs": [
    {
     "data": {
      "text/plain": [
       "[1, 3, 6, 10, 15, 21, 28, 36, 45]"
      ]
     },
     "execution_count": 3,
     "metadata": {},
     "output_type": "execute_result"
    }
   ],
   "source": [
    "cumulative_sum_int(9, return_full_sequence=True)"
   ]
  },
  {
   "cell_type": "code",
   "execution_count": 4,
   "metadata": {
    "collapsed": false
   },
   "outputs": [
    {
     "data": {
      "text/plain": [
       "55"
      ]
     },
     "execution_count": 4,
     "metadata": {},
     "output_type": "execute_result"
    }
   ],
   "source": [
    "cumulative_sum_int(10, return_full_sequence=False)"
   ]
  },
  {
   "cell_type": "markdown",
   "metadata": {},
   "source": [
    "### Cumulative sum of squares\n",
    "Do the same thing for a cumulative sum of squares (you can copy and paste the function to write the cumulative sum of integers)"
   ]
  },
  {
   "cell_type": "code",
   "execution_count": 5,
   "metadata": {
    "collapsed": true
   },
   "outputs": [],
   "source": [
    "def cumulative_sum_squares(n, return_full_sequence=False):\n",
    "    result = 0\n",
    "    if return_full_sequence:\n",
    "        seq = []\n",
    "    for i in range(1, n + 1):\n",
    "        result += i ** 2\n",
    "        if return_full_sequence:\n",
    "            seq.append(result)\n",
    "    if return_full_sequence:\n",
    "        return seq\n",
    "    return result"
   ]
  },
  {
   "cell_type": "code",
   "execution_count": 6,
   "metadata": {
    "collapsed": false
   },
   "outputs": [
    {
     "data": {
      "text/plain": [
       "[1, 5, 14, 30, 55, 91, 140, 204, 285]"
      ]
     },
     "execution_count": 6,
     "metadata": {},
     "output_type": "execute_result"
    }
   ],
   "source": [
    "cumulative_sum_squares(9, return_full_sequence=True)"
   ]
  },
  {
   "cell_type": "code",
   "execution_count": 7,
   "metadata": {
    "collapsed": false
   },
   "outputs": [
    {
     "data": {
      "text/plain": [
       "385"
      ]
     },
     "execution_count": 7,
     "metadata": {},
     "output_type": "execute_result"
    }
   ],
   "source": [
    "cumulative_sum_squares(10, return_full_sequence=False)"
   ]
  },
  {
   "cell_type": "markdown",
   "metadata": {},
   "source": [
    "### Fibonacci series\n",
    "Now write a function calucating the nth fibonacci number, the zeroth and first being 0 and 1"
   ]
  },
  {
   "cell_type": "code",
   "execution_count": 8,
   "metadata": {
    "collapsed": true
   },
   "outputs": [],
   "source": [
    "def fib(n, return_full_sequence=False):\n",
    "    if n == 0:\n",
    "        if return_full_sequence:\n",
    "            return [0]\n",
    "        return 0\n",
    "    if n == 1:\n",
    "        if return_full_sequence:\n",
    "            return [0, 1]\n",
    "        return 1\n",
    "    pre1, pre2 = 1, 0\n",
    "    if return_full_sequence:\n",
    "        seq = [0, 1]\n",
    "    for _ in range(2, n):\n",
    "        pre1, pre2 = pre1 + pre2, pre1\n",
    "        if return_full_sequence:\n",
    "            seq.append(pre1)\n",
    "    if return_full_sequence:\n",
    "        return seq\n",
    "    return pre1\n",
    "    \n",
    "        "
   ]
  },
  {
   "cell_type": "code",
   "execution_count": 9,
   "metadata": {
    "collapsed": false
   },
   "outputs": [
    {
     "data": {
      "text/plain": [
       "[0, 1, 1, 2, 3, 5, 8, 13, 21, 34]"
      ]
     },
     "execution_count": 9,
     "metadata": {},
     "output_type": "execute_result"
    }
   ],
   "source": [
    "fib(10, return_full_sequence=True)"
   ]
  },
  {
   "cell_type": "code",
   "execution_count": 10,
   "metadata": {
    "collapsed": false
   },
   "outputs": [
    {
     "data": {
      "text/plain": [
       "55"
      ]
     },
     "execution_count": 10,
     "metadata": {},
     "output_type": "execute_result"
    }
   ],
   "source": [
    "fib(11)"
   ]
  },
  {
   "cell_type": "markdown",
   "metadata": {},
   "source": [
    "## Generalizing a little\n",
    "All of the above can be written as simple operations done in a loop.\n",
    "Code a function that can take a binary (two inputs) function of `new_value` and `current_value` and returns the increment. `new_value` should be read from a sequence. Add an argument `initial_value` to be able to commence the iterations. Output the full sequence."
   ]
  },
  {
   "cell_type": "code",
   "execution_count": 11,
   "metadata": {
    "collapsed": true
   },
   "outputs": [],
   "source": [
    "def incrementer(func, sequence, initial_value):\n",
    "    results = [initial_value]\n",
    "    for item in sequence:\n",
    "        results.append(func(item, results[-1]))\n",
    "    return results[1:]\n",
    "    "
   ]
  },
  {
   "cell_type": "markdown",
   "metadata": {},
   "source": [
    "Write a function that adds two values in order to re-create the first example"
   ]
  },
  {
   "cell_type": "code",
   "execution_count": 12,
   "metadata": {
    "collapsed": true
   },
   "outputs": [],
   "source": [
    "def f_add(new_item, curr_value):\n",
    "    return new_item + curr_value\n"
   ]
  },
  {
   "cell_type": "markdown",
   "metadata": {},
   "source": [
    "Apply `incrementer` to `f_add` and a sequence of values from 0 to 9 with an initial value of 0"
   ]
  },
  {
   "cell_type": "code",
   "execution_count": 13,
   "metadata": {
    "collapsed": false
   },
   "outputs": [
    {
     "data": {
      "text/plain": [
       "[0, 1, 3, 6, 10, 15, 21, 28, 36, 45]"
      ]
     },
     "execution_count": 13,
     "metadata": {},
     "output_type": "execute_result"
    }
   ],
   "source": [
    "incrementer(f_add, np.arange(10), 0)"
   ]
  },
  {
   "cell_type": "markdown",
   "metadata": {},
   "source": [
    "Now write a `f_add_square` function and apply `incrementer` to it."
   ]
  },
  {
   "cell_type": "code",
   "execution_count": 14,
   "metadata": {
    "collapsed": false
   },
   "outputs": [],
   "source": [
    "def f_add_square(new_item, curr_value):\n",
    "    return new_item ** 2 + curr_value"
   ]
  },
  {
   "cell_type": "code",
   "execution_count": 15,
   "metadata": {
    "collapsed": false
   },
   "outputs": [
    {
     "data": {
      "text/plain": [
       "[0.0, 1.0, 5.0, 14.0, 30.0, 55.0, 91.0, 140.0, 204.0, 285.0]"
      ]
     },
     "execution_count": 15,
     "metadata": {},
     "output_type": "execute_result"
    }
   ],
   "source": [
    "incrementer(f_add_square, np.arange(10), 0.)"
   ]
  },
  {
   "cell_type": "markdown",
   "metadata": {},
   "source": [
    "## Generalizing a little more\n",
    "If you have tried to implement the fibonacci example this way, you will have noticed that it is not possible to do this easily without access to the last *two* values calculated (instead of the last one). We thus need to extend our `incrementer` function to be able to handle this case.\n",
    "\n",
    "Rewrite `incrementer` such that it accepts an argument `taps=(-1,)` which indicates which previous values of the calculated results you would like to make available to your function. It should call the agglomeration function first with the sequence value and then with these extra results. For `taps=(-1,)` it should behave exactly like `incrementer`"
   ]
  },
  {
   "cell_type": "code",
   "execution_count": 16,
   "metadata": {
    "collapsed": true
   },
   "outputs": [],
   "source": [
    "def incrementer2(func, sequence, initial_values, taps=(-1,)):\n",
    "    result = [iv for iv in initial_values]\n",
    "    taps = np.array(taps)\n",
    "    index = len(result)\n",
    "    for item in sequence:\n",
    "        func_args = [item] + [result[index + tap] for tap in taps]\n",
    "        result.append(func(*func_args))\n",
    "        index += 1\n",
    "    return result"
   ]
  },
  {
   "cell_type": "code",
   "execution_count": 17,
   "metadata": {
    "collapsed": true
   },
   "outputs": [],
   "source": [
    "def fib(curr, last, before_last):\n",
    "    return last + before_last"
   ]
  },
  {
   "cell_type": "code",
   "execution_count": 18,
   "metadata": {
    "collapsed": false
   },
   "outputs": [
    {
     "data": {
      "text/plain": [
       "[0, 1, 1, 2, 3, 5, 8, 13, 21, 34, 55, 89]"
      ]
     },
     "execution_count": 18,
     "metadata": {},
     "output_type": "execute_result"
    }
   ],
   "source": [
    "incrementer2(fib, np.arange(10), [0, 1], taps=(-1, -2))"
   ]
  },
  {
   "cell_type": "markdown",
   "metadata": {},
   "source": [
    "## Simple examples using theano.scan\n",
    "We will now use the same examples in `theano.scan`"
   ]
  },
  {
   "cell_type": "code",
   "execution_count": 19,
   "metadata": {
    "collapsed": false
   },
   "outputs": [
    {
     "name": "stderr",
     "output_type": "stream",
     "text": [
      "/home/ubuntu/venv/src/theano/theano/scan_module/scan_perform_ext.py:133: RuntimeWarning: numpy.ndarray size changed, may indicate binary incompatibility\n",
      "  from scan_perform.scan_perform import *\n"
     ]
    }
   ],
   "source": [
    "n = T.iscalar()\n",
    "sum_int_vals, sum_int_updates = theano.scan(f_add, T.arange(n).astype('float32'), 0.)\n",
    "sum_squares_vals, sum_squares_updates = theano.scan(f_add_square, T.arange(n).astype('float32'), 0.)\n",
    "\n",
    "f_sum_int_vals = theano.function([n], sum_int_vals)\n",
    "f_sum_squares_vals = theano.function([n], sum_squares_vals)"
   ]
  },
  {
   "cell_type": "code",
   "execution_count": 20,
   "metadata": {
    "collapsed": false
   },
   "outputs": [
    {
     "data": {
      "text/plain": [
       "array([   0.,    1.,    3.,    6.,   10.,   15.,   21.,   28.,   36.,\n",
       "         45.,   55.,   66.,   78.,   91.,  105.,  120.,  136.,  153.,\n",
       "        171.,  190.], dtype=float32)"
      ]
     },
     "execution_count": 20,
     "metadata": {},
     "output_type": "execute_result"
    }
   ],
   "source": [
    "f_sum_int_vals(20)"
   ]
  },
  {
   "cell_type": "code",
   "execution_count": 21,
   "metadata": {
    "collapsed": false
   },
   "outputs": [
    {
     "data": {
      "text/plain": [
       "array([   0.,    1.,    5.,   14.,   30.,   55.,   91.,  140.,  204.,  285.], dtype=float32)"
      ]
     },
     "execution_count": 21,
     "metadata": {},
     "output_type": "execute_result"
    }
   ],
   "source": [
    "f_sum_squares_vals(10)"
   ]
  },
  {
   "cell_type": "markdown",
   "metadata": {},
   "source": [
    "In order to implement Fibonacci numbers this way, we need to inform `theano.scan` of the necessary taps to use. This is done by passing a dictionary to `output_vals`"
   ]
  },
  {
   "cell_type": "code",
   "execution_count": 22,
   "metadata": {
    "collapsed": false
   },
   "outputs": [],
   "source": [
    "fibonacci_expr, fibonacci_updates = theano.scan(fib, T.arange(n), dict(initial=T.constant(np.array([0., 1.]).astype(np.float32)), taps=[-2, -1]))"
   ]
  },
  {
   "cell_type": "code",
   "execution_count": 23,
   "metadata": {
    "collapsed": false
   },
   "outputs": [],
   "source": [
    "f_fibonacci = theano.function([n], fibonacci_expr)"
   ]
  },
  {
   "cell_type": "code",
   "execution_count": 24,
   "metadata": {
    "collapsed": false
   },
   "outputs": [
    {
     "data": {
      "text/plain": [
       "array([  1.,   2.,   3.,   5.,   8.,  13.,  21.,  34.,  55.,  89.], dtype=float32)"
      ]
     },
     "execution_count": 24,
     "metadata": {},
     "output_type": "execute_result"
    }
   ],
   "source": [
    "f_fibonacci(10)"
   ]
  },
  {
   "cell_type": "code",
   "execution_count": null,
   "metadata": {
    "collapsed": true
   },
   "outputs": [],
   "source": []
  }
 ],
 "metadata": {
  "kernelspec": {
   "display_name": "Python 2",
   "language": "python",
   "name": "python2"
  },
  "language_info": {
   "codemirror_mode": {
    "name": "ipython",
    "version": 2
   },
   "file_extension": ".py",
   "mimetype": "text/x-python",
   "name": "python",
   "nbconvert_exporter": "python",
   "pygments_lexer": "ipython2",
   "version": "2.7.6"
  }
 },
 "nbformat": 4,
 "nbformat_minor": 0
}
